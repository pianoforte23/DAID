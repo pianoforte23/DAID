{
 "cells": [
  {
   "cell_type": "code",
   "execution_count": 1,
   "metadata": {},
   "outputs": [
    {
     "name": "stderr",
     "output_type": "stream",
     "text": [
      "Using TensorFlow backend.\n"
     ]
    },
    {
     "name": "stdout",
     "output_type": "stream",
     "text": [
      "Segmentation Models: using `keras` framework.\n"
     ]
    }
   ],
   "source": [
    "import numpy as np\n",
    "import os\n",
    "import denoise_model\n",
    "import tensorflow as tf\n",
    "import keras\n",
    "from keras.datasets import cifar10\n",
    "from keras.preprocessing.image import ImageDataGenerator\n",
    "from keras.callbacks import EarlyStopping, ModelCheckpoint"
   ]
  },
  {
   "cell_type": "markdown",
   "metadata": {},
   "source": [
    "### Data preprocessing (CIFAR-10)"
   ]
  },
  {
   "cell_type": "code",
   "execution_count": 2,
   "metadata": {},
   "outputs": [],
   "source": [
    "(x_train, y_train), (x_test, y_test) = cifar10.load_data()\n",
    "x_train = x_train.astype('float32') / 255\n",
    "x_test = x_test.astype('float32') / 255"
   ]
  },
  {
   "cell_type": "code",
   "execution_count": 3,
   "metadata": {},
   "outputs": [],
   "source": [
    "datagen = ImageDataGenerator(\n",
    "    featurewise_center=False,\n",
    "    samplewise_center=False,\n",
    "    featurewise_std_normalization=False,\n",
    "    samplewise_std_normalization=False,\n",
    "    zca_whitening=False,\n",
    "    rotation_range=15,\n",
    "    width_shift_range=0.1,\n",
    "    height_shift_range=0.1,\n",
    "    horizontal_flip=True,\n",
    "    vertical_flip=False\n",
    ")\n",
    "datagen.fit(x_train)"
   ]
  },
  {
   "cell_type": "markdown",
   "metadata": {},
   "source": [
    "### Train validation model"
   ]
  },
  {
   "cell_type": "code",
   "execution_count": 4,
   "metadata": {},
   "outputs": [],
   "source": [
    "nb_epochs = 200\n",
    "batch_size = 256"
   ]
  },
  {
   "cell_type": "code",
   "execution_count": 5,
   "metadata": {},
   "outputs": [],
   "source": [
    "def train_val_model(model, denoise_model, denoise_model_path):\n",
    "    if not os.path.exists(denoise_model_path):\n",
    "        test_noise = np.random.normal(loc=0, scale=0.1, size=x_test.shape)\n",
    "        x_test_noise = np.clip(x_test + test_noise, 0, 1)\n",
    "        min_loss = np.finfo(np.float32).max\n",
    "        patience = 0\n",
    "        max_patience = 30\n",
    "        for e in range(nb_epochs):\n",
    "            batches = 0\n",
    "            for x_batch, y_batch in datagen.flow(x_train, y_train, batch_size=batch_size):\n",
    "                train_noise = np.random.normal(loc=0, scale=0.1, size=x_batch.shape)\n",
    "                x_batch_noise = np.clip(x_batch + train_noise, 0, 1)\n",
    "                denoise_model.fit(x_batch_noise, y_batch, verbose=0)\n",
    "                model.fit(x_batch, y_batch, verbose=0)\n",
    "                batches += 1\n",
    "                if batches >= len(x_train) // batch_size: break\n",
    "            denoise_model_loss = denoise_model.evaluate(x_test_noise, y_test)\n",
    "            orig_model_loss = model.evaluate(x_test, y_test)\n",
    "            loss = denoise_model_loss + orig_model_loss\n",
    "            print('epoch ', e, ', loss: ', loss)\n",
    "            if loss < min_loss:\n",
    "                min_loss = loss\n",
    "                denoise_model.save_weights(denoise_model_path)\n",
    "                patience = 0\n",
    "            else: patience += 1\n",
    "            if patience > max_patience:\n",
    "                break"
   ]
  },
  {
   "cell_type": "code",
   "execution_count": 6,
   "metadata": {},
   "outputs": [],
   "source": [
    "dm_gaussian_blur_path = 'model/dm_gaussian_blur.h5'\n",
    "dm_median_blur_path = 'model/dm_median_blur.h5'\n",
    "dm_nl_means_path = 'model/dm_nl_means.h5'\n",
    "dm_dae_resnet_model_resnet_path = 'model/dm_dae_resnet_model_resnet.h5'\n",
    "dm_dae_vgg_model_resnet_path = 'model/dm_dae_vgg_model_resnet.h5'\n",
    "dm_dae_resnet_model_vgg_path = 'model/dm_dae_resnet_model_vgg.h5'\n",
    "dm_dae_vgg_model_vgg_path = 'model/dm_dae_vgg_model_vgg.h5'\n",
    "dae_resnet_path = 'model/DAE_resnet.h5'\n",
    "dae_vgg_path = 'model/DAE_vgg.h5'\n",
    "\n",
    "dm_gaussian_blur = denoise_model.DM_GAUSSIAN_BLUR()\n",
    "dm_median_blur = denoise_model.DM_MEDIAN_BLUR()\n",
    "dm_nl_means = denoise_model.DM_NL_MEANS()\n",
    "dm_dae_resnet_model_resnet = denoise_model.DM_DAE_RESNET()\n",
    "dm_dae_vgg_model_resnet = denoise_model.DM_DAE_VGG()\n",
    "dm_dae_resnet_model_vgg = denoise_model.DM_DAE_RESNET(model=\"vgg16\")\n",
    "dm_dae_vgg_model_vgg = denoise_model.DM_DAE_VGG(model=\"vgg16\")"
   ]
  },
  {
   "cell_type": "code",
   "execution_count": 7,
   "metadata": {},
   "outputs": [],
   "source": [
    "loss_object = keras.losses.SparseCategoricalCrossentropy(from_logits=True)\n",
    "\n",
    "dm_dae_resnet_model_resnet.denoiser.trainable = False\n",
    "dm_dae_vgg_model_resnet.denoiser.trainable = False\n",
    "dm_dae_resnet_model_vgg.denoiser.trainable = False\n",
    "dm_dae_vgg_model_vgg.denoiser.trainable = False\n",
    "dm_dae_resnet_model_resnet.denoiser.compile(loss='mse', optimizer='adam')\n",
    "dm_dae_vgg_model_resnet.denoiser.compile(loss='mse', optimizer='adam')\n",
    "dm_dae_resnet_model_vgg.denoiser.compile(loss='mse', optimizer='adam')\n",
    "dm_dae_vgg_model_vgg.denoiser.compile(loss='mse', optimizer='adam')\n",
    "\n",
    "dm_gaussian_blur.model.compile(loss=loss_object, optimizer='adam')\n",
    "dm_median_blur.model.compile(loss=loss_object, optimizer='adam')\n",
    "dm_nl_means.model.compile(loss=loss_object, optimizer='adam')\n",
    "dm_dae_resnet_model_resnet.model.compile(loss=loss_object, optimizer='adam')\n",
    "dm_dae_vgg_model_resnet.model.compile(loss=loss_object, optimizer='adam')\n",
    "dm_dae_resnet_model_vgg.model.compile(loss=loss_object, optimizer='adam')\n",
    "dm_dae_vgg_model_vgg.model.compile(loss=loss_object, optimizer='adam')\n",
    "\n",
    "dm_gaussian_blur.denoise_model.compile(loss=loss_object, optimizer='adam')\n",
    "dm_median_blur.denoise_model.compile(loss=loss_object, optimizer='adam')\n",
    "dm_nl_means.denoise_model.compile(loss=loss_object, optimizer='adam')\n",
    "dm_dae_resnet_model_resnet.denoise_model.compile(loss=loss_object, optimizer='adam')\n",
    "dm_dae_vgg_model_resnet.denoise_model.compile(loss=loss_object, optimizer='adam')\n",
    "dm_dae_resnet_model_vgg.denoise_model.compile(loss=loss_object, optimizer='adam')\n",
    "dm_dae_vgg_model_vgg.denoise_model.compile(loss=loss_object, optimizer='adam')\n",
    "\n",
    "dm_dae_resnet_model_resnet.denoiser.load_weights(dae_resnet_path)\n",
    "dm_dae_vgg_model_resnet.denoiser.load_weights(dae_vgg_path)\n",
    "dm_dae_resnet_model_vgg.denoiser.load_weights(dae_resnet_path)\n",
    "dm_dae_vgg_model_vgg.denoiser.load_weights(dae_vgg_path)"
   ]
  },
  {
   "cell_type": "code",
   "execution_count": 8,
   "metadata": {},
   "outputs": [],
   "source": [
    "train_val_model(dm_gaussian_blur.model, dm_gaussian_blur.denoise_model, dm_gaussian_blur_path)"
   ]
  },
  {
   "cell_type": "code",
   "execution_count": 9,
   "metadata": {},
   "outputs": [],
   "source": [
    "train_val_model(dm_median_blur.model, dm_median_blur.denoise_model, dm_median_blur_path)"
   ]
  },
  {
   "cell_type": "code",
   "execution_count": 10,
   "metadata": {},
   "outputs": [],
   "source": [
    "train_val_model(dm_dae_resnet_model_resnet.model, dm_dae_resnet_model_resnet.denoise_model, dm_dae_resnet_model_resnet_path)"
   ]
  },
  {
   "cell_type": "code",
   "execution_count": 11,
   "metadata": {},
   "outputs": [],
   "source": [
    "train_val_model(dm_dae_vgg_model_resnet.model, dm_dae_vgg_model_resnet.denoise_model, dm_dae_vgg_model_resnet_path)"
   ]
  },
  {
   "cell_type": "code",
   "execution_count": 12,
   "metadata": {},
   "outputs": [],
   "source": [
    "train_val_model(dm_dae_resnet_model_vgg.model, dm_dae_resnet_model_vgg.denoise_model, dm_dae_resnet_model_vgg_path)"
   ]
  },
  {
   "cell_type": "code",
   "execution_count": 13,
   "metadata": {},
   "outputs": [
    {
     "name": "stdout",
     "output_type": "stream",
     "text": [
      "10000/10000 [==============================] - 6s 561us/step\n",
      "10000/10000 [==============================] - 2s 238us/step\n",
      "epoch  0 , loss:  2.711516697502136\n",
      "10000/10000 [==============================] - 5s 515us/step\n",
      "10000/10000 [==============================] - 2s 236us/step\n",
      "epoch  1 , loss:  2.3426033720016477\n",
      "10000/10000 [==============================] - 5s 515us/step\n",
      "10000/10000 [==============================] - 2s 235us/step\n",
      "epoch  2 , loss:  2.1635936340332034\n",
      "10000/10000 [==============================] - 5s 521us/step\n",
      "10000/10000 [==============================] - 2s 237us/step\n",
      "epoch  3 , loss:  2.0398984000205993\n",
      "10000/10000 [==============================] - 5s 517us/step\n",
      "10000/10000 [==============================] - 2s 236us/step\n",
      "epoch  4 , loss:  1.8155785824775696\n",
      "10000/10000 [==============================] - 5s 520us/step\n",
      "10000/10000 [==============================] - 2s 237us/step\n",
      "epoch  5 , loss:  1.727113952922821\n",
      "10000/10000 [==============================] - 5s 517us/step\n",
      "10000/10000 [==============================] - 2s 236us/step\n",
      "epoch  6 , loss:  1.741789979839325\n",
      "10000/10000 [==============================] - 5s 518us/step\n",
      "10000/10000 [==============================] - 2s 236us/step\n",
      "epoch  7 , loss:  1.664573510313034\n",
      "10000/10000 [==============================] - 5s 519us/step\n",
      "10000/10000 [==============================] - 2s 236us/step\n",
      "epoch  8 , loss:  1.6160442505836488\n",
      "10000/10000 [==============================] - 5s 517us/step\n",
      "10000/10000 [==============================] - 2s 236us/step\n",
      "epoch  9 , loss:  1.669359286594391\n",
      "10000/10000 [==============================] - 5s 519us/step\n",
      "10000/10000 [==============================] - 2s 235us/step\n",
      "epoch  10 , loss:  1.6750792260169982\n",
      "10000/10000 [==============================] - 5s 519us/step\n",
      "10000/10000 [==============================] - 2s 236us/step\n",
      "epoch  11 , loss:  1.5349127403259277\n",
      "10000/10000 [==============================] - 5s 521us/step\n",
      "10000/10000 [==============================] - 2s 235us/step\n",
      "epoch  12 , loss:  1.521119339799881\n",
      "10000/10000 [==============================] - 5s 519us/step\n",
      "10000/10000 [==============================] - 2s 235us/step\n",
      "epoch  13 , loss:  2.3936730996608735\n",
      "10000/10000 [==============================] - 5s 517us/step\n",
      "10000/10000 [==============================] - 2s 235us/step\n",
      "epoch  14 , loss:  1.7558628487586976\n",
      "10000/10000 [==============================] - 5s 517us/step\n",
      "10000/10000 [==============================] - 2s 235us/step\n",
      "epoch  15 , loss:  1.613863602399826\n",
      "10000/10000 [==============================] - 5s 520us/step\n",
      "10000/10000 [==============================] - 2s 235us/step\n",
      "epoch  16 , loss:  1.5558285702705383\n",
      "10000/10000 [==============================] - 5s 519us/step\n",
      "10000/10000 [==============================] - 2s 237us/step\n",
      "epoch  17 , loss:  1.6247297393798827\n",
      "10000/10000 [==============================] - 5s 519us/step\n",
      "10000/10000 [==============================] - 2s 236us/step\n",
      "epoch  18 , loss:  1.6057055946350096\n",
      "10000/10000 [==============================] - 5s 521us/step\n",
      "10000/10000 [==============================] - 2s 237us/step\n",
      "epoch  19 , loss:  1.7788822031021119\n",
      "10000/10000 [==============================] - 5s 518us/step\n",
      "10000/10000 [==============================] - 2s 235us/step\n",
      "epoch  20 , loss:  1.690976013803482\n",
      "10000/10000 [==============================] - 5s 518us/step\n",
      "10000/10000 [==============================] - 2s 237us/step\n",
      "epoch  21 , loss:  4.605265830993653\n"
     ]
    },
    {
     "ename": "KeyboardInterrupt",
     "evalue": "",
     "output_type": "error",
     "traceback": [
      "\u001b[0;31m\u001b[0m",
      "\u001b[0;31mKeyboardInterrupt\u001b[0mTraceback (most recent call last)",
      "\u001b[0;32m<ipython-input-13-45efe6600386>\u001b[0m in \u001b[0;36m<module>\u001b[0;34m\u001b[0m\n\u001b[0;32m----> 1\u001b[0;31m \u001b[0mtrain_val_model\u001b[0m\u001b[0;34m(\u001b[0m\u001b[0mdm_dae_vgg_model_vgg\u001b[0m\u001b[0;34m.\u001b[0m\u001b[0mmodel\u001b[0m\u001b[0;34m,\u001b[0m \u001b[0mdm_dae_vgg_model_vgg\u001b[0m\u001b[0;34m.\u001b[0m\u001b[0mdenoise_model\u001b[0m\u001b[0;34m,\u001b[0m \u001b[0mdm_dae_vgg_model_vgg_path\u001b[0m\u001b[0;34m)\u001b[0m\u001b[0;34m\u001b[0m\u001b[0;34m\u001b[0m\u001b[0m\n\u001b[0m",
      "\u001b[0;32m<ipython-input-5-9b3adbf0449b>\u001b[0m in \u001b[0;36mtrain_val_model\u001b[0;34m(model, denoise_model, denoise_model_path)\u001b[0m\n\u001b[1;32m     11\u001b[0m                 \u001b[0mtrain_noise\u001b[0m \u001b[0;34m=\u001b[0m \u001b[0mnp\u001b[0m\u001b[0;34m.\u001b[0m\u001b[0mrandom\u001b[0m\u001b[0;34m.\u001b[0m\u001b[0mnormal\u001b[0m\u001b[0;34m(\u001b[0m\u001b[0mloc\u001b[0m\u001b[0;34m=\u001b[0m\u001b[0;36m0\u001b[0m\u001b[0;34m,\u001b[0m \u001b[0mscale\u001b[0m\u001b[0;34m=\u001b[0m\u001b[0;36m0.1\u001b[0m\u001b[0;34m,\u001b[0m \u001b[0msize\u001b[0m\u001b[0;34m=\u001b[0m\u001b[0mx_batch\u001b[0m\u001b[0;34m.\u001b[0m\u001b[0mshape\u001b[0m\u001b[0;34m)\u001b[0m\u001b[0;34m\u001b[0m\u001b[0;34m\u001b[0m\u001b[0m\n\u001b[1;32m     12\u001b[0m                 \u001b[0mx_batch_noise\u001b[0m \u001b[0;34m=\u001b[0m \u001b[0mnp\u001b[0m\u001b[0;34m.\u001b[0m\u001b[0mclip\u001b[0m\u001b[0;34m(\u001b[0m\u001b[0mx_batch\u001b[0m \u001b[0;34m+\u001b[0m \u001b[0mtrain_noise\u001b[0m\u001b[0;34m,\u001b[0m \u001b[0;36m0\u001b[0m\u001b[0;34m,\u001b[0m \u001b[0;36m1\u001b[0m\u001b[0;34m)\u001b[0m\u001b[0;34m\u001b[0m\u001b[0;34m\u001b[0m\u001b[0m\n\u001b[0;32m---> 13\u001b[0;31m                 \u001b[0mdenoise_model\u001b[0m\u001b[0;34m.\u001b[0m\u001b[0mfit\u001b[0m\u001b[0;34m(\u001b[0m\u001b[0mx_batch_noise\u001b[0m\u001b[0;34m,\u001b[0m \u001b[0my_batch\u001b[0m\u001b[0;34m,\u001b[0m \u001b[0mverbose\u001b[0m\u001b[0;34m=\u001b[0m\u001b[0;36m0\u001b[0m\u001b[0;34m)\u001b[0m\u001b[0;34m\u001b[0m\u001b[0;34m\u001b[0m\u001b[0m\n\u001b[0m\u001b[1;32m     14\u001b[0m                 \u001b[0mmodel\u001b[0m\u001b[0;34m.\u001b[0m\u001b[0mfit\u001b[0m\u001b[0;34m(\u001b[0m\u001b[0mx_batch\u001b[0m\u001b[0;34m,\u001b[0m \u001b[0my_batch\u001b[0m\u001b[0;34m,\u001b[0m \u001b[0mverbose\u001b[0m\u001b[0;34m=\u001b[0m\u001b[0;36m0\u001b[0m\u001b[0;34m)\u001b[0m\u001b[0;34m\u001b[0m\u001b[0;34m\u001b[0m\u001b[0m\n\u001b[1;32m     15\u001b[0m                 \u001b[0mbatches\u001b[0m \u001b[0;34m+=\u001b[0m \u001b[0;36m1\u001b[0m\u001b[0;34m\u001b[0m\u001b[0;34m\u001b[0m\u001b[0m\n",
      "\u001b[0;32m/usr/local/lib/python3.6/dist-packages/keras/engine/training.py\u001b[0m in \u001b[0;36mfit\u001b[0;34m(self, x, y, batch_size, epochs, verbose, callbacks, validation_split, validation_data, shuffle, class_weight, sample_weight, initial_epoch, steps_per_epoch, validation_steps, validation_freq, max_queue_size, workers, use_multiprocessing, **kwargs)\u001b[0m\n\u001b[1;32m   1237\u001b[0m                                         \u001b[0msteps_per_epoch\u001b[0m\u001b[0;34m=\u001b[0m\u001b[0msteps_per_epoch\u001b[0m\u001b[0;34m,\u001b[0m\u001b[0;34m\u001b[0m\u001b[0;34m\u001b[0m\u001b[0m\n\u001b[1;32m   1238\u001b[0m                                         \u001b[0mvalidation_steps\u001b[0m\u001b[0;34m=\u001b[0m\u001b[0mvalidation_steps\u001b[0m\u001b[0;34m,\u001b[0m\u001b[0;34m\u001b[0m\u001b[0;34m\u001b[0m\u001b[0m\n\u001b[0;32m-> 1239\u001b[0;31m                                         validation_freq=validation_freq)\n\u001b[0m\u001b[1;32m   1240\u001b[0m \u001b[0;34m\u001b[0m\u001b[0m\n\u001b[1;32m   1241\u001b[0m     def evaluate(self,\n",
      "\u001b[0;32m/usr/local/lib/python3.6/dist-packages/keras/engine/training_arrays.py\u001b[0m in \u001b[0;36mfit_loop\u001b[0;34m(model, fit_function, fit_inputs, out_labels, batch_size, epochs, verbose, callbacks, val_function, val_inputs, shuffle, initial_epoch, steps_per_epoch, validation_steps, validation_freq)\u001b[0m\n\u001b[1;32m    194\u001b[0m                     \u001b[0mins_batch\u001b[0m\u001b[0;34m[\u001b[0m\u001b[0mi\u001b[0m\u001b[0;34m]\u001b[0m \u001b[0;34m=\u001b[0m \u001b[0mins_batch\u001b[0m\u001b[0;34m[\u001b[0m\u001b[0mi\u001b[0m\u001b[0;34m]\u001b[0m\u001b[0;34m.\u001b[0m\u001b[0mtoarray\u001b[0m\u001b[0;34m(\u001b[0m\u001b[0;34m)\u001b[0m\u001b[0;34m\u001b[0m\u001b[0;34m\u001b[0m\u001b[0m\n\u001b[1;32m    195\u001b[0m \u001b[0;34m\u001b[0m\u001b[0m\n\u001b[0;32m--> 196\u001b[0;31m                 \u001b[0mouts\u001b[0m \u001b[0;34m=\u001b[0m \u001b[0mfit_function\u001b[0m\u001b[0;34m(\u001b[0m\u001b[0mins_batch\u001b[0m\u001b[0;34m)\u001b[0m\u001b[0;34m\u001b[0m\u001b[0;34m\u001b[0m\u001b[0m\n\u001b[0m\u001b[1;32m    197\u001b[0m                 \u001b[0mouts\u001b[0m \u001b[0;34m=\u001b[0m \u001b[0mto_list\u001b[0m\u001b[0;34m(\u001b[0m\u001b[0mouts\u001b[0m\u001b[0;34m)\u001b[0m\u001b[0;34m\u001b[0m\u001b[0;34m\u001b[0m\u001b[0m\n\u001b[1;32m    198\u001b[0m                 \u001b[0;32mfor\u001b[0m \u001b[0ml\u001b[0m\u001b[0;34m,\u001b[0m \u001b[0mo\u001b[0m \u001b[0;32min\u001b[0m \u001b[0mzip\u001b[0m\u001b[0;34m(\u001b[0m\u001b[0mout_labels\u001b[0m\u001b[0;34m,\u001b[0m \u001b[0mouts\u001b[0m\u001b[0;34m)\u001b[0m\u001b[0;34m:\u001b[0m\u001b[0;34m\u001b[0m\u001b[0;34m\u001b[0m\u001b[0m\n",
      "\u001b[0;32m/usr/local/lib/python3.6/dist-packages/tensorflow_core/python/keras/backend.py\u001b[0m in \u001b[0;36m__call__\u001b[0;34m(self, inputs)\u001b[0m\n\u001b[1;32m   3725\u001b[0m         \u001b[0mvalue\u001b[0m \u001b[0;34m=\u001b[0m \u001b[0mmath_ops\u001b[0m\u001b[0;34m.\u001b[0m\u001b[0mcast\u001b[0m\u001b[0;34m(\u001b[0m\u001b[0mvalue\u001b[0m\u001b[0;34m,\u001b[0m \u001b[0mtensor\u001b[0m\u001b[0;34m.\u001b[0m\u001b[0mdtype\u001b[0m\u001b[0;34m)\u001b[0m\u001b[0;34m\u001b[0m\u001b[0;34m\u001b[0m\u001b[0m\n\u001b[1;32m   3726\u001b[0m       \u001b[0mconverted_inputs\u001b[0m\u001b[0;34m.\u001b[0m\u001b[0mappend\u001b[0m\u001b[0;34m(\u001b[0m\u001b[0mvalue\u001b[0m\u001b[0;34m)\u001b[0m\u001b[0;34m\u001b[0m\u001b[0;34m\u001b[0m\u001b[0m\n\u001b[0;32m-> 3727\u001b[0;31m     \u001b[0moutputs\u001b[0m \u001b[0;34m=\u001b[0m \u001b[0mself\u001b[0m\u001b[0;34m.\u001b[0m\u001b[0m_graph_fn\u001b[0m\u001b[0;34m(\u001b[0m\u001b[0;34m*\u001b[0m\u001b[0mconverted_inputs\u001b[0m\u001b[0;34m)\u001b[0m\u001b[0;34m\u001b[0m\u001b[0;34m\u001b[0m\u001b[0m\n\u001b[0m\u001b[1;32m   3728\u001b[0m \u001b[0;34m\u001b[0m\u001b[0m\n\u001b[1;32m   3729\u001b[0m     \u001b[0;31m# EagerTensor.numpy() will often make a copy to ensure memory safety.\u001b[0m\u001b[0;34m\u001b[0m\u001b[0;34m\u001b[0m\u001b[0;34m\u001b[0m\u001b[0m\n",
      "\u001b[0;32m/usr/local/lib/python3.6/dist-packages/tensorflow_core/python/eager/function.py\u001b[0m in \u001b[0;36m__call__\u001b[0;34m(self, *args, **kwargs)\u001b[0m\n\u001b[1;32m   1549\u001b[0m       \u001b[0mTypeError\u001b[0m\u001b[0;34m:\u001b[0m \u001b[0mFor\u001b[0m \u001b[0minvalid\u001b[0m \u001b[0mpositional\u001b[0m\u001b[0;34m/\u001b[0m\u001b[0mkeyword\u001b[0m \u001b[0margument\u001b[0m \u001b[0mcombinations\u001b[0m\u001b[0;34m.\u001b[0m\u001b[0;34m\u001b[0m\u001b[0;34m\u001b[0m\u001b[0m\n\u001b[1;32m   1550\u001b[0m     \"\"\"\n\u001b[0;32m-> 1551\u001b[0;31m     \u001b[0;32mreturn\u001b[0m \u001b[0mself\u001b[0m\u001b[0;34m.\u001b[0m\u001b[0m_call_impl\u001b[0m\u001b[0;34m(\u001b[0m\u001b[0margs\u001b[0m\u001b[0;34m,\u001b[0m \u001b[0mkwargs\u001b[0m\u001b[0;34m)\u001b[0m\u001b[0;34m\u001b[0m\u001b[0;34m\u001b[0m\u001b[0m\n\u001b[0m\u001b[1;32m   1552\u001b[0m \u001b[0;34m\u001b[0m\u001b[0m\n\u001b[1;32m   1553\u001b[0m   \u001b[0;32mdef\u001b[0m \u001b[0m_call_impl\u001b[0m\u001b[0;34m(\u001b[0m\u001b[0mself\u001b[0m\u001b[0;34m,\u001b[0m \u001b[0margs\u001b[0m\u001b[0;34m,\u001b[0m \u001b[0mkwargs\u001b[0m\u001b[0;34m,\u001b[0m \u001b[0mcancellation_manager\u001b[0m\u001b[0;34m=\u001b[0m\u001b[0;32mNone\u001b[0m\u001b[0;34m)\u001b[0m\u001b[0;34m:\u001b[0m\u001b[0;34m\u001b[0m\u001b[0;34m\u001b[0m\u001b[0m\n",
      "\u001b[0;32m/usr/local/lib/python3.6/dist-packages/tensorflow_core/python/eager/function.py\u001b[0m in \u001b[0;36m_call_impl\u001b[0;34m(self, args, kwargs, cancellation_manager)\u001b[0m\n\u001b[1;32m   1589\u001b[0m       raise TypeError(\"Keyword arguments {} unknown. Expected {}.\".format(\n\u001b[1;32m   1590\u001b[0m           list(kwargs.keys()), list(self._arg_keywords)))\n\u001b[0;32m-> 1591\u001b[0;31m     \u001b[0;32mreturn\u001b[0m \u001b[0mself\u001b[0m\u001b[0;34m.\u001b[0m\u001b[0m_call_flat\u001b[0m\u001b[0;34m(\u001b[0m\u001b[0margs\u001b[0m\u001b[0;34m,\u001b[0m \u001b[0mself\u001b[0m\u001b[0;34m.\u001b[0m\u001b[0mcaptured_inputs\u001b[0m\u001b[0;34m,\u001b[0m \u001b[0mcancellation_manager\u001b[0m\u001b[0;34m)\u001b[0m\u001b[0;34m\u001b[0m\u001b[0;34m\u001b[0m\u001b[0m\n\u001b[0m\u001b[1;32m   1592\u001b[0m \u001b[0;34m\u001b[0m\u001b[0m\n\u001b[1;32m   1593\u001b[0m   \u001b[0;32mdef\u001b[0m \u001b[0m_filtered_call\u001b[0m\u001b[0;34m(\u001b[0m\u001b[0mself\u001b[0m\u001b[0;34m,\u001b[0m \u001b[0margs\u001b[0m\u001b[0;34m,\u001b[0m \u001b[0mkwargs\u001b[0m\u001b[0;34m)\u001b[0m\u001b[0;34m:\u001b[0m\u001b[0;34m\u001b[0m\u001b[0;34m\u001b[0m\u001b[0m\n",
      "\u001b[0;32m/usr/local/lib/python3.6/dist-packages/tensorflow_core/python/eager/function.py\u001b[0m in \u001b[0;36m_call_flat\u001b[0;34m(self, args, captured_inputs, cancellation_manager)\u001b[0m\n\u001b[1;32m   1690\u001b[0m       \u001b[0;31m# No tape is watching; skip to running the function.\u001b[0m\u001b[0;34m\u001b[0m\u001b[0;34m\u001b[0m\u001b[0;34m\u001b[0m\u001b[0m\n\u001b[1;32m   1691\u001b[0m       return self._build_call_outputs(self._inference_function.call(\n\u001b[0;32m-> 1692\u001b[0;31m           ctx, args, cancellation_manager=cancellation_manager))\n\u001b[0m\u001b[1;32m   1693\u001b[0m     forward_backward = self._select_forward_and_backward_functions(\n\u001b[1;32m   1694\u001b[0m         \u001b[0margs\u001b[0m\u001b[0;34m,\u001b[0m\u001b[0;34m\u001b[0m\u001b[0;34m\u001b[0m\u001b[0m\n",
      "\u001b[0;32m/usr/local/lib/python3.6/dist-packages/tensorflow_core/python/eager/function.py\u001b[0m in \u001b[0;36mcall\u001b[0;34m(self, ctx, args, cancellation_manager)\u001b[0m\n\u001b[1;32m    543\u001b[0m               \u001b[0minputs\u001b[0m\u001b[0;34m=\u001b[0m\u001b[0margs\u001b[0m\u001b[0;34m,\u001b[0m\u001b[0;34m\u001b[0m\u001b[0;34m\u001b[0m\u001b[0m\n\u001b[1;32m    544\u001b[0m               \u001b[0mattrs\u001b[0m\u001b[0;34m=\u001b[0m\u001b[0;34m(\u001b[0m\u001b[0;34m\"executor_type\"\u001b[0m\u001b[0;34m,\u001b[0m \u001b[0mexecutor_type\u001b[0m\u001b[0;34m,\u001b[0m \u001b[0;34m\"config_proto\"\u001b[0m\u001b[0;34m,\u001b[0m \u001b[0mconfig\u001b[0m\u001b[0;34m)\u001b[0m\u001b[0;34m,\u001b[0m\u001b[0;34m\u001b[0m\u001b[0;34m\u001b[0m\u001b[0m\n\u001b[0;32m--> 545\u001b[0;31m               ctx=ctx)\n\u001b[0m\u001b[1;32m    546\u001b[0m         \u001b[0;32melse\u001b[0m\u001b[0;34m:\u001b[0m\u001b[0;34m\u001b[0m\u001b[0;34m\u001b[0m\u001b[0m\n\u001b[1;32m    547\u001b[0m           outputs = execute.execute_with_cancellation(\n",
      "\u001b[0;32m/usr/local/lib/python3.6/dist-packages/tensorflow_core/python/eager/execute.py\u001b[0m in \u001b[0;36mquick_execute\u001b[0;34m(op_name, num_outputs, inputs, attrs, ctx, name)\u001b[0m\n\u001b[1;32m     59\u001b[0m     tensors = pywrap_tensorflow.TFE_Py_Execute(ctx._handle, device_name,\n\u001b[1;32m     60\u001b[0m                                                \u001b[0mop_name\u001b[0m\u001b[0;34m,\u001b[0m \u001b[0minputs\u001b[0m\u001b[0;34m,\u001b[0m \u001b[0mattrs\u001b[0m\u001b[0;34m,\u001b[0m\u001b[0;34m\u001b[0m\u001b[0;34m\u001b[0m\u001b[0m\n\u001b[0;32m---> 61\u001b[0;31m                                                num_outputs)\n\u001b[0m\u001b[1;32m     62\u001b[0m   \u001b[0;32mexcept\u001b[0m \u001b[0mcore\u001b[0m\u001b[0;34m.\u001b[0m\u001b[0m_NotOkStatusException\u001b[0m \u001b[0;32mas\u001b[0m \u001b[0me\u001b[0m\u001b[0;34m:\u001b[0m\u001b[0;34m\u001b[0m\u001b[0;34m\u001b[0m\u001b[0m\n\u001b[1;32m     63\u001b[0m     \u001b[0;32mif\u001b[0m \u001b[0mname\u001b[0m \u001b[0;32mis\u001b[0m \u001b[0;32mnot\u001b[0m \u001b[0;32mNone\u001b[0m\u001b[0;34m:\u001b[0m\u001b[0;34m\u001b[0m\u001b[0;34m\u001b[0m\u001b[0m\n",
      "\u001b[0;31mKeyboardInterrupt\u001b[0m: "
     ]
    }
   ],
   "source": [
    "train_val_model(dm_dae_vgg_model_vgg.model, dm_dae_vgg_model_vgg.denoise_model, dm_dae_vgg_model_vgg_path)"
   ]
  }
 ],
 "metadata": {
  "kernelspec": {
   "display_name": "Python 3",
   "language": "python",
   "name": "python3"
  },
  "language_info": {
   "codemirror_mode": {
    "name": "ipython",
    "version": 3
   },
   "file_extension": ".py",
   "mimetype": "text/x-python",
   "name": "python",
   "nbconvert_exporter": "python",
   "pygments_lexer": "ipython3",
   "version": "3.6.9"
  }
 },
 "nbformat": 4,
 "nbformat_minor": 4
}
