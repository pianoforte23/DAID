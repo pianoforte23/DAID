{
 "cells": [
  {
   "cell_type": "code",
   "execution_count": 1,
   "metadata": {},
   "outputs": [
    {
     "name": "stderr",
     "output_type": "stream",
     "text": [
      "Using TensorFlow backend.\n"
     ]
    },
    {
     "name": "stdout",
     "output_type": "stream",
     "text": [
      "Segmentation Models: using `keras` framework.\n"
     ]
    }
   ],
   "source": [
    "import numpy as np\n",
    "import os\n",
    "import tensorflow as tf\n",
    "import keras\n",
    "import segmentation_models as sm\n",
    "from keras.datasets import cifar10\n",
    "from keras.preprocessing.image import ImageDataGenerator\n",
    "from keras.callbacks import EarlyStopping, ModelCheckpoint"
   ]
  },
  {
   "cell_type": "markdown",
   "metadata": {},
   "source": [
    "### Data preprocessing (CIFAR-10)"
   ]
  },
  {
   "cell_type": "code",
   "execution_count": 2,
   "metadata": {},
   "outputs": [],
   "source": [
    "(x_train, y_train), (x_test, y_test) = cifar10.load_data()\n",
    "x_train = x_train.astype('float32') / 255\n",
    "x_test = x_test.astype('float32') / 255"
   ]
  },
  {
   "cell_type": "code",
   "execution_count": 3,
   "metadata": {},
   "outputs": [],
   "source": [
    "datagen = ImageDataGenerator(\n",
    "    featurewise_center=False,\n",
    "    samplewise_center=False,\n",
    "    featurewise_std_normalization=False,\n",
    "    samplewise_std_normalization=False,\n",
    "    zca_whitening=False,\n",
    "    rotation_range=15,\n",
    "    width_shift_range=0.1,\n",
    "    height_shift_range=0.1,\n",
    "    horizontal_flip=True,\n",
    "    vertical_flip=False\n",
    ")\n",
    "datagen.fit(x_train)"
   ]
  },
  {
   "cell_type": "markdown",
   "metadata": {},
   "source": [
    "### Denoising autoencoder (DAE) training"
   ]
  },
  {
   "cell_type": "code",
   "execution_count": 4,
   "metadata": {},
   "outputs": [
    {
     "name": "stderr",
     "output_type": "stream",
     "text": [
      "/usr/local/lib/python3.6/dist-packages/keras_applications/mobilenet_v2.py:294: UserWarning: `input_shape` is undefined or non-square, or `rows` is not in [96, 128, 160, 192, 224]. Weights for input shape (224, 224) will be loaded as the default.\n",
      "  warnings.warn('`input_shape` is undefined or non-square, '\n"
     ]
    }
   ],
   "source": [
    "input_shape = (32, 32, 3)\n",
    "\n",
    "DAE_resnet = sm.Unet('resnet18', input_shape=input_shape, classes=3, activation='sigmoid')\n",
    "DAE_vgg = sm.Unet('vgg16', input_shape=input_shape, classes=3, activation='sigmoid')\n",
    "\n",
    "DAE_resnet_path = 'model/DAE_resnet.h5'\n",
    "DAE_vgg_path = 'model/DAE_vgg.h5'\n",
    "\n",
    "DAE_resnet.compile(loss='mse', optimizer='adam')\n",
    "DAE_vgg.compile(loss='mse', optimizer='adam')\n",
    "\n",
    "nb_epochs = 200\n",
    "batch_size = 256"
   ]
  },
  {
   "cell_type": "code",
   "execution_count": 5,
   "metadata": {},
   "outputs": [],
   "source": [
    "def train_DAE(DAE, DAE_path):\n",
    "    if not os.path.exists(DAE_path):\n",
    "        test_noise = np.random.normal(loc=0, scale=0.1, size=x_test.shape)\n",
    "        x_test_noise = np.clip(x_test + test_noise, 0, 1)\n",
    "        min_loss = np.finfo(np.float32).max\n",
    "        patience = 0\n",
    "        max_patience = 30\n",
    "        for e in range(nb_epochs):\n",
    "            batches = 0\n",
    "            for x_batch, y_batch in datagen.flow(x_train, y_train, batch_size=batch_size):\n",
    "                train_noise = np.random.normal(loc=0, scale=0.1, size=x_batch.shape)\n",
    "                x_batch_noise = np.clip(x_batch + train_noise, 0, 1)\n",
    "                DAE.fit(x_batch_noise, x_batch, verbose=0)\n",
    "                batches += 1\n",
    "                if batches >= len(x_train) // batch_size: break\n",
    "            loss = DAE.evaluate(x_test_noise, x_test)\n",
    "            print('epoch ', e, ', loss: ', loss)\n",
    "            if loss < min_loss:\n",
    "                min_loss = loss\n",
    "                DAE.save_weights(DAE_path)\n",
    "                patience = 0\n",
    "            else: patience += 1\n",
    "            if patience > max_patience:\n",
    "                break"
   ]
  },
  {
   "cell_type": "code",
   "execution_count": 6,
   "metadata": {},
   "outputs": [],
   "source": [
    "train_DAE(DAE_resnet, DAE_resnet_path)"
   ]
  },
  {
   "cell_type": "code",
   "execution_count": 7,
   "metadata": {},
   "outputs": [],
   "source": [
    "train_DAE(DAE_vgg, DAE_vgg_path)"
   ]
  }
 ],
 "metadata": {
  "kernelspec": {
   "display_name": "Python 3",
   "language": "python",
   "name": "python3"
  },
  "language_info": {
   "codemirror_mode": {
    "name": "ipython",
    "version": 3
   },
   "file_extension": ".py",
   "mimetype": "text/x-python",
   "name": "python",
   "nbconvert_exporter": "python",
   "pygments_lexer": "ipython3",
   "version": "3.6.9"
  }
 },
 "nbformat": 4,
 "nbformat_minor": 4
}
