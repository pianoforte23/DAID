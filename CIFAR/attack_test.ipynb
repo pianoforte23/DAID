{
 "cells": [
  {
   "cell_type": "code",
   "execution_count": 1,
   "metadata": {},
   "outputs": [
    {
     "name": "stderr",
     "output_type": "stream",
     "text": [
      "Using TensorFlow backend.\n"
     ]
    },
    {
     "name": "stdout",
     "output_type": "stream",
     "text": [
      "Segmentation Models: using `keras` framework.\n"
     ]
    }
   ],
   "source": [
    "import numpy as np\n",
    "import os\n",
    "import tensorflow as tf\n",
    "import keras\n",
    "import setup_cifar\n",
    "import denoise_model\n",
    "from matplotlib import pyplot as plt\n",
    "from art.estimators.classification import KerasClassifier\n",
    "from art.attacks.evasion import FastGradientMethod, CarliniLInfMethod, BasicIterativeMethod\n",
    "from keras.datasets import cifar10\n",
    "from keras.preprocessing.image import ImageDataGenerator"
   ]
  },
  {
   "cell_type": "code",
   "execution_count": 2,
   "metadata": {},
   "outputs": [
    {
     "name": "stdout",
     "output_type": "stream",
     "text": [
      "[name: \"/device:CPU:0\"\n",
      "device_type: \"CPU\"\n",
      "memory_limit: 268435456\n",
      "locality {\n",
      "}\n",
      "incarnation: 8578839935737755239\n",
      ", name: \"/device:XLA_CPU:0\"\n",
      "device_type: \"XLA_CPU\"\n",
      "memory_limit: 17179869184\n",
      "locality {\n",
      "}\n",
      "incarnation: 7767347249903548728\n",
      "physical_device_desc: \"device: XLA_CPU device\"\n",
      ", name: \"/device:XLA_GPU:0\"\n",
      "device_type: \"XLA_GPU\"\n",
      "memory_limit: 17179869184\n",
      "locality {\n",
      "}\n",
      "incarnation: 6955633188988875469\n",
      "physical_device_desc: \"device: XLA_GPU device\"\n",
      ", name: \"/device:XLA_GPU:1\"\n",
      "device_type: \"XLA_GPU\"\n",
      "memory_limit: 17179869184\n",
      "locality {\n",
      "}\n",
      "incarnation: 4247097928377860348\n",
      "physical_device_desc: \"device: XLA_GPU device\"\n",
      ", name: \"/device:XLA_GPU:2\"\n",
      "device_type: \"XLA_GPU\"\n",
      "memory_limit: 17179869184\n",
      "locality {\n",
      "}\n",
      "incarnation: 17027140282502243451\n",
      "physical_device_desc: \"device: XLA_GPU device\"\n",
      ", name: \"/device:XLA_GPU:3\"\n",
      "device_type: \"XLA_GPU\"\n",
      "memory_limit: 17179869184\n",
      "locality {\n",
      "}\n",
      "incarnation: 5936328262230464497\n",
      "physical_device_desc: \"device: XLA_GPU device\"\n",
      ", name: \"/device:GPU:0\"\n",
      "device_type: \"GPU\"\n",
      "memory_limit: 11755552768\n",
      "locality {\n",
      "  bus_id: 1\n",
      "  links {\n",
      "    link {\n",
      "      device_id: 1\n",
      "      type: \"StreamExecutor\"\n",
      "      strength: 1\n",
      "    }\n",
      "    link {\n",
      "      device_id: 2\n",
      "      type: \"StreamExecutor\"\n",
      "      strength: 1\n",
      "    }\n",
      "    link {\n",
      "      device_id: 3\n",
      "      type: \"StreamExecutor\"\n",
      "      strength: 1\n",
      "    }\n",
      "  }\n",
      "}\n",
      "incarnation: 4029338252117929195\n",
      "physical_device_desc: \"device: 0, name: TITAN Xp, pci bus id: 0000:19:00.0, compute capability: 6.1\"\n",
      ", name: \"/device:GPU:1\"\n",
      "device_type: \"GPU\"\n",
      "memory_limit: 11755552768\n",
      "locality {\n",
      "  bus_id: 1\n",
      "  links {\n",
      "    link {\n",
      "      type: \"StreamExecutor\"\n",
      "      strength: 1\n",
      "    }\n",
      "    link {\n",
      "      device_id: 2\n",
      "      type: \"StreamExecutor\"\n",
      "      strength: 1\n",
      "    }\n",
      "    link {\n",
      "      device_id: 3\n",
      "      type: \"StreamExecutor\"\n",
      "      strength: 1\n",
      "    }\n",
      "  }\n",
      "}\n",
      "incarnation: 8542047654078201209\n",
      "physical_device_desc: \"device: 1, name: TITAN Xp, pci bus id: 0000:1a:00.0, compute capability: 6.1\"\n",
      ", name: \"/device:GPU:2\"\n",
      "device_type: \"GPU\"\n",
      "memory_limit: 11755552768\n",
      "locality {\n",
      "  bus_id: 1\n",
      "  links {\n",
      "    link {\n",
      "      type: \"StreamExecutor\"\n",
      "      strength: 1\n",
      "    }\n",
      "    link {\n",
      "      device_id: 1\n",
      "      type: \"StreamExecutor\"\n",
      "      strength: 1\n",
      "    }\n",
      "    link {\n",
      "      device_id: 3\n",
      "      type: \"StreamExecutor\"\n",
      "      strength: 1\n",
      "    }\n",
      "  }\n",
      "}\n",
      "incarnation: 206175931296847726\n",
      "physical_device_desc: \"device: 2, name: TITAN Xp, pci bus id: 0000:67:00.0, compute capability: 6.1\"\n",
      ", name: \"/device:GPU:3\"\n",
      "device_type: \"GPU\"\n",
      "memory_limit: 11653660032\n",
      "locality {\n",
      "  bus_id: 1\n",
      "  links {\n",
      "    link {\n",
      "      type: \"StreamExecutor\"\n",
      "      strength: 1\n",
      "    }\n",
      "    link {\n",
      "      device_id: 1\n",
      "      type: \"StreamExecutor\"\n",
      "      strength: 1\n",
      "    }\n",
      "    link {\n",
      "      device_id: 2\n",
      "      type: \"StreamExecutor\"\n",
      "      strength: 1\n",
      "    }\n",
      "  }\n",
      "}\n",
      "incarnation: 11358821069586586052\n",
      "physical_device_desc: \"device: 3, name: TITAN Xp, pci bus id: 0000:68:00.0, compute capability: 6.1\"\n",
      "]\n"
     ]
    }
   ],
   "source": [
    "from tensorflow.python.client import device_lib\n",
    "print(device_lib.list_local_devices())"
   ]
  },
  {
   "cell_type": "code",
   "execution_count": 3,
   "metadata": {},
   "outputs": [],
   "source": [
    "tf.compat.v1.disable_eager_execution()"
   ]
  },
  {
   "cell_type": "markdown",
   "metadata": {},
   "source": [
    "### Data preprocessing (CIFAR-10)"
   ]
  },
  {
   "cell_type": "code",
   "execution_count": 4,
   "metadata": {},
   "outputs": [],
   "source": [
    "(x_train, y_train), (x_test, y_test) = cifar10.load_data()\n",
    "x_train = x_train.astype('float32') / 255\n",
    "x_test = x_test.astype('float32') / 255"
   ]
  },
  {
   "cell_type": "markdown",
   "metadata": {},
   "source": [
    "### CIFAR-10 model loading (ResNet, VGG16)"
   ]
  },
  {
   "cell_type": "code",
   "execution_count": 5,
   "metadata": {},
   "outputs": [],
   "source": [
    "loss_object = keras.losses.SparseCategoricalCrossentropy(from_logits=True)\n",
    "input_shape = (32, 32, 3)\n",
    "\n",
    "model_resnet = setup_cifar.resnet_v2(input_shape, 20)\n",
    "model_vgg16 = setup_cifar.model_vgg16(input_shape)\n",
    "model_resnet.compile(loss=loss_object, optimizer='adam', metrics=['accuracy'])\n",
    "model_vgg16.compile(loss=loss_object, optimizer='adam', metrics=['accuracy'])\n",
    "\n",
    "model_resnet_path = \"model/model_resnet.h5\"\n",
    "model_vgg16_path = \"model/model_vgg16.h5\"\n",
    "model_resnet.load_weights(model_resnet_path)\n",
    "model_vgg16.load_weights(model_vgg16_path)"
   ]
  },
  {
   "cell_type": "markdown",
   "metadata": {},
   "source": [
    "#### ResNet accuracy"
   ]
  },
  {
   "cell_type": "code",
   "execution_count": 6,
   "metadata": {},
   "outputs": [
    {
     "name": "stdout",
     "output_type": "stream",
     "text": [
      "WARNING:tensorflow:From /usr/local/lib/python3.6/dist-packages/tensorflow/python/keras/engine/training_v1.py:2048: Model.state_updates (from tensorflow.python.keras.engine.training) is deprecated and will be removed in a future version.\n",
      "Instructions for updating:\n",
      "This property should not be used in TensorFlow 2.0, as updates are applied automatically.\n",
      "Accuracy on total test data: 87.26%\n"
     ]
    }
   ],
   "source": [
    "loss_test, accuracy_test = model_resnet.evaluate(x_test, y_test)\n",
    "print('Accuracy on total test data: {:4.2f}%'.format(accuracy_test * 100))"
   ]
  },
  {
   "cell_type": "markdown",
   "metadata": {},
   "source": [
    "#### VGG16 accuracy"
   ]
  },
  {
   "cell_type": "code",
   "execution_count": 7,
   "metadata": {},
   "outputs": [
    {
     "name": "stdout",
     "output_type": "stream",
     "text": [
      "Accuracy on total test data: 89.18%\n"
     ]
    }
   ],
   "source": [
    "loss_test, accuracy_test = model_vgg16.evaluate(x_test, y_test)\n",
    "print('Accuracy on total test data: {:4.2f}%'.format(accuracy_test * 100))"
   ]
  },
  {
   "cell_type": "code",
   "execution_count": 8,
   "metadata": {},
   "outputs": [],
   "source": [
    "x_test_atk = x_test[0:100]\n",
    "y_test_atk = y_test[0:100]"
   ]
  },
  {
   "cell_type": "markdown",
   "metadata": {},
   "source": [
    "#### ResNet test accuracy"
   ]
  },
  {
   "cell_type": "code",
   "execution_count": 9,
   "metadata": {},
   "outputs": [
    {
     "name": "stdout",
     "output_type": "stream",
     "text": [
      "Accuracy on test data: 92.00%\n"
     ]
    }
   ],
   "source": [
    "loss_test, accuracy_test = model_resnet.evaluate(x_test_atk, y_test_atk)\n",
    "print('Accuracy on test data: {:4.2f}%'.format(accuracy_test * 100))"
   ]
  },
  {
   "cell_type": "markdown",
   "metadata": {},
   "source": [
    "#### VGG16 test accuracy"
   ]
  },
  {
   "cell_type": "code",
   "execution_count": 10,
   "metadata": {},
   "outputs": [
    {
     "name": "stdout",
     "output_type": "stream",
     "text": [
      "Accuracy on test data: 91.00%\n"
     ]
    }
   ],
   "source": [
    "loss_test, accuracy_test = model_vgg16.evaluate(x_test_atk, y_test_atk)\n",
    "print('Accuracy on test data: {:4.2f}%'.format(accuracy_test * 100))"
   ]
  },
  {
   "cell_type": "code",
   "execution_count": 11,
   "metadata": {},
   "outputs": [],
   "source": [
    "def plt_show(img):\n",
    "    plt.figure()\n",
    "    plt.imshow(img)\n",
    "    plt.axis('off')\n",
    "    plt.show()"
   ]
  },
  {
   "cell_type": "code",
   "execution_count": 12,
   "metadata": {},
   "outputs": [
    {
     "name": "stdout",
     "output_type": "stream",
     "text": [
      "Original test image\n"
     ]
    },
    {
     "data": {
      "image/png": "[encoded data removed]",
      "text/plain": [
       "<Figure size 432x288 with 1 Axes>"
      ]
     },
     "metadata": {
      "needs_background": "light"
     },
     "output_type": "display_data"
    }
   ],
   "source": [
    "test_index = 10\n",
    "print('Original test image')\n",
    "plt_show(x_test_atk[test_index])"
   ]
  },
  {
   "cell_type": "code",
   "execution_count": 13,
   "metadata": {},
   "outputs": [],
   "source": [
    "classifier_resnet = KerasClassifier(model=model_resnet, use_logits=True, clip_values=(0, 1))\n",
    "classifier_vgg16 = KerasClassifier(model=model_vgg16, use_logits=True, clip_values=(0, 1))"
   ]
  },
  {
   "cell_type": "markdown",
   "metadata": {},
   "source": [
    "### Attack test on FGSM (ResNet)"
   ]
  },
  {
   "cell_type": "code",
   "execution_count": 14,
   "metadata": {},
   "outputs": [],
   "source": [
    "attack_fgsm_resnet = FastGradientMethod(estimator=classifier_resnet, eps=0.03)\n",
    "x_test_adv_fgsm_resnet = attack_fgsm_resnet.generate(x_test_atk)"
   ]
  },
  {
   "cell_type": "code",
   "execution_count": 15,
   "metadata": {},
   "outputs": [
    {
     "name": "stdout",
     "output_type": "stream",
     "text": [
      "Accuracy on adversarial test data: 8.00%\n",
      "Average perturbation: 0.03\n"
     ]
    }
   ],
   "source": [
    "loss_test, accuracy_test = model_resnet.evaluate(x_test_adv_fgsm_resnet, y_test_atk)\n",
    "perturbation = np.mean(np.abs((x_test_adv_fgsm_resnet - x_test_atk)))\n",
    "print('Accuracy on adversarial test data: {:4.2f}%'.format(accuracy_test * 100))\n",
    "print('Average perturbation: {:4.2f}'.format(perturbation))"
   ]
  },
  {
   "cell_type": "code",
   "execution_count": 16,
   "metadata": {},
   "outputs": [
    {
     "data": {
      "image/png": "[encoded data removed]",
      "text/plain": [
       "<Figure size 432x288 with 1 Axes>"
      ]
     },
     "metadata": {
      "needs_background": "light"
     },
     "output_type": "display_data"
    }
   ],
   "source": [
    "plt_show(x_test_adv_fgsm_resnet[test_index])"
   ]
  },
  {
   "cell_type": "markdown",
   "metadata": {},
   "source": [
    "### Attack test on FGSM (VGG16)"
   ]
  },
  {
   "cell_type": "code",
   "execution_count": 17,
   "metadata": {},
   "outputs": [],
   "source": [
    "attack_fgsm_vgg16 = FastGradientMethod(estimator=classifier_vgg16, eps=0.03)\n",
    "x_test_adv_fgsm_vgg16 = attack_fgsm_vgg16.generate(x_test_atk)"
   ]
  },
  {
   "cell_type": "code",
   "execution_count": 18,
   "metadata": {},
   "outputs": [
    {
     "name": "stdout",
     "output_type": "stream",
     "text": [
      "Accuracy on adversarial test data: 46.00%\n",
      "Average perturbation: 0.03\n"
     ]
    }
   ],
   "source": [
    "loss_test, accuracy_test = model_vgg16.evaluate(x_test_adv_fgsm_vgg16, y_test_atk)\n",
    "perturbation = np.mean(np.abs((x_test_adv_fgsm_vgg16 - x_test_atk)))\n",
    "print('Accuracy on adversarial test data: {:4.2f}%'.format(accuracy_test * 100))\n",
    "print('Average perturbation: {:4.2f}'.format(perturbation))"
   ]
  },
  {
   "cell_type": "code",
   "execution_count": 19,
   "metadata": {},
   "outputs": [
    {
     "data": {
      "image/png": "[encoded data removed]",
      "text/plain": [
       "<Figure size 432x288 with 1 Axes>"
      ]
     },
     "metadata": {
      "needs_background": "light"
     },
     "output_type": "display_data"
    }
   ],
   "source": [
    "plt_show(x_test_adv_fgsm_vgg16[test_index])"
   ]
  },
  {
   "cell_type": "markdown",
   "metadata": {},
   "source": [
    "### Attack test on C&W Method (ResNet)"
   ]
  },
  {
   "cell_type": "code",
   "execution_count": 20,
   "metadata": {},
   "outputs": [
    {
     "name": "stderr",
     "output_type": "stream",
     "text": [
      "C&W L_inf: 100%|██████████| 1/1 [00:25<00:00, 25.49s/it]\n"
     ]
    }
   ],
   "source": [
    "attack_cw_resnet = CarliniLInfMethod(classifier=classifier_resnet, eps=0.03, max_iter=100, learning_rate=0.01)\n",
    "x_test_adv_cw_resnet = attack_cw_resnet.generate(x_test_atk)"
   ]
  },
  {
   "cell_type": "code",
   "execution_count": 21,
   "metadata": {},
   "outputs": [
    {
     "name": "stdout",
     "output_type": "stream",
     "text": [
      "Accuracy on adversarial test data: 6.00%\n",
      "Average perturbation: 0.00\n"
     ]
    }
   ],
   "source": [
    "loss_test, accuracy_test = model_resnet.evaluate(x_test_adv_cw_resnet, y_test_atk)\n",
    "perturbation = np.mean(np.abs((x_test_adv_cw_resnet - x_test_atk)))\n",
    "print('Accuracy on adversarial test data: {:4.2f}%'.format(accuracy_test * 100))\n",
    "print('Average perturbation: {:4.2f}'.format(perturbation))"
   ]
  },
  {
   "cell_type": "code",
   "execution_count": 22,
   "metadata": {},
   "outputs": [
    {
     "data": {
      "image/png": "[encoded data removed]",
      "text/plain": [
       "<Figure size 432x288 with 1 Axes>"
      ]
     },
     "metadata": {
      "needs_background": "light"
     },
     "output_type": "display_data"
    }
   ],
   "source": [
    "plt_show(x_test_adv_cw_resnet[test_index])"
   ]
  },
  {
   "cell_type": "markdown",
   "metadata": {},
   "source": [
    "### Attack test on C&W Method (VGG16)"
   ]
  },
  {
   "cell_type": "code",
   "execution_count": 23,
   "metadata": {},
   "outputs": [
    {
     "name": "stderr",
     "output_type": "stream",
     "text": [
      "C&W L_inf: 100%|██████████| 1/1 [00:10<00:00, 10.29s/it]\n"
     ]
    }
   ],
   "source": [
    "attack_cw_vgg16 = CarliniLInfMethod(classifier=classifier_vgg16, eps=0.03, max_iter=100, learning_rate=0.01)\n",
    "x_test_adv_cw_vgg16 = attack_cw_vgg16.generate(x_test_atk)"
   ]
  },
  {
   "cell_type": "code",
   "execution_count": 24,
   "metadata": {},
   "outputs": [
    {
     "name": "stdout",
     "output_type": "stream",
     "text": [
      "Accuracy on adversarial test data: 4.00%\n",
      "Average perturbation: 0.00\n"
     ]
    }
   ],
   "source": [
    "loss_test, accuracy_test = model_vgg16.evaluate(x_test_adv_cw_vgg16, y_test_atk)\n",
    "perturbation = np.mean(np.abs((x_test_adv_cw_vgg16 - x_test_atk)))\n",
    "print('Accuracy on adversarial test data: {:4.2f}%'.format(accuracy_test * 100))\n",
    "print('Average perturbation: {:4.2f}'.format(perturbation))"
   ]
  },
  {
   "cell_type": "code",
   "execution_count": 25,
   "metadata": {},
   "outputs": [
    {
     "data": {
      "image/png": "[encoded data removed]",
      "text/plain": [
       "<Figure size 432x288 with 1 Axes>"
      ]
     },
     "metadata": {
      "needs_background": "light"
     },
     "output_type": "display_data"
    }
   ],
   "source": [
    "plt_show(x_test_adv_cw_vgg16[test_index])"
   ]
  },
  {
   "cell_type": "markdown",
   "metadata": {},
   "source": [
    "### Attack test on PGD (BIM) Method (ResNet)"
   ]
  },
  {
   "cell_type": "code",
   "execution_count": 26,
   "metadata": {},
   "outputs": [],
   "source": [
    "attack_pgd_resnet = BasicIterativeMethod(estimator=classifier_resnet, eps=0.03, eps_step=0.01, max_iter=100)\n",
    "x_test_adv_pgd_resnet = attack_pgd_resnet.generate(x_test_atk)"
   ]
  },
  {
   "cell_type": "code",
   "execution_count": 27,
   "metadata": {},
   "outputs": [
    {
     "name": "stdout",
     "output_type": "stream",
     "text": [
      "Accuracy on adversarial test data: 6.00%\n",
      "Average perturbation: 0.02\n"
     ]
    }
   ],
   "source": [
    "loss_test, accuracy_test = model_resnet.evaluate(x_test_adv_pgd_resnet, y_test_atk)\n",
    "perturbation = np.mean(np.abs((x_test_adv_pgd_resnet - x_test_atk)))\n",
    "print('Accuracy on adversarial test data: {:4.2f}%'.format(accuracy_test * 100))\n",
    "print('Average perturbation: {:4.2f}'.format(perturbation))"
   ]
  },
  {
   "cell_type": "code",
   "execution_count": 28,
   "metadata": {},
   "outputs": [
    {
     "data": {
      "image/png": "[encoded data removed]",
      "text/plain": [
       "<Figure size 432x288 with 1 Axes>"
      ]
     },
     "metadata": {
      "needs_background": "light"
     },
     "output_type": "display_data"
    }
   ],
   "source": [
    "plt_show(x_test_adv_pgd_resnet[test_index])"
   ]
  },
  {
   "cell_type": "markdown",
   "metadata": {},
   "source": [
    "### Attack test on PGD (BIM) Method (VGG16)"
   ]
  },
  {
   "cell_type": "code",
   "execution_count": 29,
   "metadata": {},
   "outputs": [],
   "source": [
    "attack_pgd_vgg16 = BasicIterativeMethod(estimator=classifier_vgg16, eps=0.03, eps_step=0.01, max_iter=100)\n",
    "x_test_adv_pgd_vgg16 = attack_pgd_vgg16.generate(x_test_atk)"
   ]
  },
  {
   "cell_type": "code",
   "execution_count": 30,
   "metadata": {},
   "outputs": [
    {
     "name": "stdout",
     "output_type": "stream",
     "text": [
      "Accuracy on adversarial test data: 34.00%\n",
      "Average perturbation: 0.02\n"
     ]
    }
   ],
   "source": [
    "loss_test, accuracy_test = model_vgg16.evaluate(x_test_adv_pgd_vgg16, y_test_atk)\n",
    "perturbation = np.mean(np.abs((x_test_adv_pgd_vgg16 - x_test_atk)))\n",
    "print('Accuracy on adversarial test data: {:4.2f}%'.format(accuracy_test * 100))\n",
    "print('Average perturbation: {:4.2f}'.format(perturbation))"
   ]
  },
  {
   "cell_type": "code",
   "execution_count": 31,
   "metadata": {},
   "outputs": [
    {
     "data": {
      "image/png": "[encoded data removed]",
      "text/plain": [
       "<Figure size 432x288 with 1 Axes>"
      ]
     },
     "metadata": {
      "needs_background": "light"
     },
     "output_type": "display_data"
    }
   ],
   "source": [
    "plt_show(x_test_adv_pgd_vgg16[test_index])"
   ]
  },
  {
   "cell_type": "markdown",
   "metadata": {},
   "source": [
    "### Transferability test on PGD between ResNet and VGG16"
   ]
  },
  {
   "cell_type": "code",
   "execution_count": 32,
   "metadata": {},
   "outputs": [
    {
     "name": "stdout",
     "output_type": "stream",
     "text": [
      "Accuracy on adversarial test data: 64.00%\n"
     ]
    }
   ],
   "source": [
    "loss_test, accuracy_test = model_resnet.evaluate(x_test_adv_pgd_vgg16, y_test_atk)\n",
    "print('Accuracy on adversarial test data: {:4.2f}%'.format(accuracy_test * 100))"
   ]
  },
  {
   "cell_type": "code",
   "execution_count": 33,
   "metadata": {},
   "outputs": [
    {
     "name": "stdout",
     "output_type": "stream",
     "text": [
      "Accuracy on adversarial test data: 69.00%\n"
     ]
    }
   ],
   "source": [
    "loss_test, accuracy_test = model_vgg16.evaluate(x_test_adv_pgd_resnet, y_test_atk)\n",
    "print('Accuracy on adversarial test data: {:4.2f}%'.format(accuracy_test * 100))"
   ]
  },
  {
   "cell_type": "markdown",
   "metadata": {},
   "source": [
    "### Denoiser test (before training validation model [just adding denoiser])"
   ]
  },
  {
   "cell_type": "code",
   "execution_count": 34,
   "metadata": {},
   "outputs": [],
   "source": [
    "dae_resnet_path = 'model/DAE_resnet.h5'\n",
    "dae_vgg_path = 'model/DAE_vgg.h5'\n",
    "dm_gaussian_blur_path = 'model/dm_gaussian_blur.h5'\n",
    "dm_median_blur_path = 'model/dm_median_blur.h5'\n",
    "dm_dae_resnet_model_resnet_path = 'model/dm_dae_resnet_model_resnet.h5'\n",
    "dm_dae_vgg_model_resnet_path = 'model/dm_dae_vgg_model_resnet.h5'\n",
    "dm_dae_resnet_model_vgg_path = 'model/dm_dae_resnet_model_vgg.h5'\n",
    "dm_dae_vgg_model_vgg_path = 'model/dm_dae_vgg_model_vgg.h5'\n",
    "\n",
    "dm_gaussian_blur = denoise_model.DM_GAUSSIAN_BLUR()\n",
    "dm_median_blur = denoise_model.DM_MEDIAN_BLUR()\n",
    "dm_nl_means = denoise_model.DM_NL_MEANS()\n",
    "dm_dae_resnet_model_resnet = denoise_model.DM_DAE_RESNET()\n",
    "dm_dae_vgg_model_resnet = denoise_model.DM_DAE_VGG()\n",
    "dm_dae_resnet_model_vgg = denoise_model.DM_DAE_RESNET(model=\"vgg16\")\n",
    "dm_dae_vgg_model_vgg = denoise_model.DM_DAE_VGG(model=\"vgg16\")"
   ]
  },
  {
   "cell_type": "code",
   "execution_count": 35,
   "metadata": {},
   "outputs": [],
   "source": [
    "dm_dae_resnet_model_resnet.denoiser.compile(loss='mse', optimizer='adam')\n",
    "dm_dae_vgg_model_resnet.denoiser.compile(loss='mse', optimizer='adam')\n",
    "dm_dae_resnet_model_vgg.denoiser.compile(loss='mse', optimizer='adam')\n",
    "dm_dae_vgg_model_vgg.denoiser.compile(loss='mse', optimizer='adam')\n",
    "\n",
    "dm_gaussian_blur.model.compile(loss=loss_object, optimizer='adam', metrics=['accuracy'])\n",
    "dm_median_blur.model.compile(loss=loss_object, optimizer='adam', metrics=['accuracy'])\n",
    "dm_nl_means.model.compile(loss=loss_object, optimizer='adam', metrics=['accuracy'])\n",
    "dm_dae_resnet_model_resnet.model.compile(loss=loss_object, optimizer='adam', metrics=['accuracy'])\n",
    "dm_dae_vgg_model_resnet.model.compile(loss=loss_object, optimizer='adam', metrics=['accuracy'])\n",
    "dm_dae_resnet_model_vgg.model.compile(loss=loss_object, optimizer='adam', metrics=['accuracy'])\n",
    "dm_dae_vgg_model_vgg.model.compile(loss=loss_object, optimizer='adam', metrics=['accuracy'])\n",
    "\n",
    "dm_gaussian_blur.denoise_model.compile(loss=loss_object, optimizer='adam', metrics=['accuracy'])\n",
    "dm_median_blur.denoise_model.compile(loss=loss_object, optimizer='adam', metrics=['accuracy'])\n",
    "dm_nl_means.denoise_model.compile(loss=loss_object, optimizer='adam', metrics=['accuracy'])\n",
    "dm_dae_resnet_model_resnet.denoise_model.compile(loss=loss_object, optimizer='adam', metrics=['accuracy'])\n",
    "dm_dae_vgg_model_resnet.denoise_model.compile(loss=loss_object, optimizer='adam', metrics=['accuracy'])\n",
    "dm_dae_resnet_model_vgg.denoise_model.compile(loss=loss_object, optimizer='adam', metrics=['accuracy'])\n",
    "dm_dae_vgg_model_vgg.denoise_model.compile(loss=loss_object, optimizer='adam', metrics=['accuracy'])\n",
    "\n",
    "dm_dae_resnet_model_resnet.denoiser.load_weights(dae_resnet_path)\n",
    "dm_dae_vgg_model_resnet.denoiser.load_weights(dae_vgg_path)\n",
    "dm_dae_resnet_model_vgg.denoiser.load_weights(dae_resnet_path)\n",
    "dm_dae_vgg_model_vgg.denoiser.load_weights(dae_vgg_path)\n",
    "\n",
    "dm_gaussian_blur.model.load_weights(model_resnet_path)\n",
    "dm_median_blur.model.load_weights(model_resnet_path)\n",
    "dm_nl_means.model.load_weights(model_resnet_path)\n",
    "dm_dae_resnet_model_resnet.model.load_weights(model_resnet_path)\n",
    "dm_dae_vgg_model_resnet.model.load_weights(model_resnet_path)\n",
    "dm_dae_resnet_model_vgg.model.load_weights(model_vgg16_path)\n",
    "dm_dae_vgg_model_vgg.model.load_weights(model_vgg16_path)"
   ]
  },
  {
   "cell_type": "markdown",
   "metadata": {},
   "source": [
    "#### Original image accuracy"
   ]
  },
  {
   "cell_type": "code",
   "execution_count": 36,
   "metadata": {},
   "outputs": [
    {
     "name": "stdout",
     "output_type": "stream",
     "text": [
      "Accuracy [Gaussian Blur] on test data: 64.00%\n"
     ]
    }
   ],
   "source": [
    "loss_test, accuracy_test = dm_gaussian_blur.denoise_model.evaluate(x_test_atk, y_test_atk)\n",
    "print('Accuracy [Gaussian Blur] on test data: {:4.2f}%'.format(accuracy_test * 100))"
   ]
  },
  {
   "cell_type": "code",
   "execution_count": 37,
   "metadata": {},
   "outputs": [
    {
     "name": "stdout",
     "output_type": "stream",
     "text": [
      "Accuracy [Median Blur] on test data: 81.00%\n"
     ]
    }
   ],
   "source": [
    "loss_test, accuracy_test = dm_median_blur.denoise_model.evaluate(x_test_atk, y_test_atk)\n",
    "print('Accuracy [Median Blur] on test data: {:4.2f}%'.format(accuracy_test * 100))"
   ]
  },
  {
   "cell_type": "code",
   "execution_count": 38,
   "metadata": {},
   "outputs": [
    {
     "name": "stdout",
     "output_type": "stream",
     "text": [
      "Accuracy [Non-Local Means] on test data: 73.00%\n"
     ]
    }
   ],
   "source": [
    "loss_test, accuracy_test = dm_nl_means.denoise_model.evaluate(x_test_atk, y_test_atk)\n",
    "print('Accuracy [Non-Local Means] on test data: {:4.2f}%'.format(accuracy_test * 100))"
   ]
  },
  {
   "cell_type": "code",
   "execution_count": 39,
   "metadata": {},
   "outputs": [
    {
     "name": "stdout",
     "output_type": "stream",
     "text": [
      "Accuracy [DAE_ResNet & Model_ResNet] on test data: 71.00%\n"
     ]
    }
   ],
   "source": [
    "loss_test, accuracy_test = dm_dae_resnet_model_resnet.denoise_model.evaluate(x_test_atk, y_test_atk)\n",
    "print('Accuracy [DAE_ResNet & Model_ResNet] on test data: {:4.2f}%'.format(accuracy_test * 100))"
   ]
  },
  {
   "cell_type": "code",
   "execution_count": 40,
   "metadata": {},
   "outputs": [
    {
     "name": "stdout",
     "output_type": "stream",
     "text": [
      "Accuracy [DAE_VGG & Model_ResNet] on test data: 66.00%\n"
     ]
    }
   ],
   "source": [
    "loss_test, accuracy_test = dm_dae_vgg_model_resnet.denoise_model.evaluate(x_test_atk, y_test_atk)\n",
    "print('Accuracy [DAE_VGG & Model_ResNet] on test data: {:4.2f}%'.format(accuracy_test * 100))"
   ]
  },
  {
   "cell_type": "code",
   "execution_count": 41,
   "metadata": {},
   "outputs": [
    {
     "name": "stdout",
     "output_type": "stream",
     "text": [
      "Accuracy [DAE_ResNet & Model_VGG] on test data: 76.00%\n"
     ]
    }
   ],
   "source": [
    "loss_test, accuracy_test = dm_dae_resnet_model_vgg.denoise_model.evaluate(x_test_atk, y_test_atk)\n",
    "print('Accuracy [DAE_ResNet & Model_VGG] on test data: {:4.2f}%'.format(accuracy_test * 100))"
   ]
  },
  {
   "cell_type": "code",
   "execution_count": 42,
   "metadata": {},
   "outputs": [
    {
     "name": "stdout",
     "output_type": "stream",
     "text": [
      "Accuracy [DAE_VGG & Model_VGG] on test data: 79.00%\n"
     ]
    }
   ],
   "source": [
    "loss_test, accuracy_test = dm_dae_vgg_model_vgg.denoise_model.evaluate(x_test_atk, y_test_atk)\n",
    "print('Accuracy [DAE_VGG & Model_VGG] on test data: {:4.2f}%'.format(accuracy_test * 100))"
   ]
  },
  {
   "cell_type": "markdown",
   "metadata": {},
   "source": [
    "#### FGSM accuracy"
   ]
  },
  {
   "cell_type": "code",
   "execution_count": 43,
   "metadata": {},
   "outputs": [
    {
     "name": "stdout",
     "output_type": "stream",
     "text": [
      "Accuracy [Gaussian Blur] on test data: 37.00%\n"
     ]
    }
   ],
   "source": [
    "loss_test, accuracy_test = dm_gaussian_blur.denoise_model.evaluate(x_test_adv_fgsm_resnet, y_test_atk)\n",
    "print('Accuracy [Gaussian Blur] on test data: {:4.2f}%'.format(accuracy_test * 100))"
   ]
  },
  {
   "cell_type": "code",
   "execution_count": 44,
   "metadata": {},
   "outputs": [
    {
     "name": "stdout",
     "output_type": "stream",
     "text": [
      "Accuracy [Median Blur] on test data: 43.00%\n"
     ]
    }
   ],
   "source": [
    "loss_test, accuracy_test = dm_median_blur.denoise_model.evaluate(x_test_adv_fgsm_resnet, y_test_atk)\n",
    "print('Accuracy [Median Blur] on test data: {:4.2f}%'.format(accuracy_test * 100))"
   ]
  },
  {
   "cell_type": "code",
   "execution_count": 45,
   "metadata": {},
   "outputs": [
    {
     "name": "stdout",
     "output_type": "stream",
     "text": [
      "Accuracy [Non-Local Means] on test data: 32.00%\n"
     ]
    }
   ],
   "source": [
    "loss_test, accuracy_test = dm_nl_means.denoise_model.evaluate(x_test_adv_fgsm_resnet, y_test_atk)\n",
    "print('Accuracy [Non-Local Means] on test data: {:4.2f}%'.format(accuracy_test * 100))"
   ]
  },
  {
   "cell_type": "code",
   "execution_count": 46,
   "metadata": {},
   "outputs": [
    {
     "name": "stdout",
     "output_type": "stream",
     "text": [
      "Accuracy [DAE_ResNet & Model_ResNet] on test data: 56.00%\n"
     ]
    }
   ],
   "source": [
    "loss_test, accuracy_test = dm_dae_resnet_model_resnet.denoise_model.evaluate(x_test_adv_fgsm_resnet, y_test_atk)\n",
    "print('Accuracy [DAE_ResNet & Model_ResNet] on test data: {:4.2f}%'.format(accuracy_test * 100))"
   ]
  },
  {
   "cell_type": "code",
   "execution_count": 47,
   "metadata": {},
   "outputs": [
    {
     "name": "stdout",
     "output_type": "stream",
     "text": [
      "Accuracy [DAE_VGG & Model_ResNet] on test data: 57.00%\n"
     ]
    }
   ],
   "source": [
    "loss_test, accuracy_test = dm_dae_vgg_model_resnet.denoise_model.evaluate(x_test_adv_fgsm_resnet, y_test_atk)\n",
    "print('Accuracy [DAE_VGG & Model_ResNet] on test data: {:4.2f}%'.format(accuracy_test * 100))"
   ]
  },
  {
   "cell_type": "markdown",
   "metadata": {},
   "source": [
    "#### C&W accuracy"
   ]
  },
  {
   "cell_type": "code",
   "execution_count": 48,
   "metadata": {},
   "outputs": [
    {
     "name": "stdout",
     "output_type": "stream",
     "text": [
      "Accuracy [Gaussian Blur] on test data: 60.00%\n"
     ]
    }
   ],
   "source": [
    "loss_test, accuracy_test = dm_gaussian_blur.denoise_model.evaluate(x_test_adv_cw_resnet, y_test_atk)\n",
    "print('Accuracy [Gaussian Blur] on test data: {:4.2f}%'.format(accuracy_test * 100))"
   ]
  },
  {
   "cell_type": "code",
   "execution_count": 49,
   "metadata": {},
   "outputs": [
    {
     "name": "stdout",
     "output_type": "stream",
     "text": [
      "Accuracy [Median Blur] on test data: 74.00%\n"
     ]
    }
   ],
   "source": [
    "loss_test, accuracy_test = dm_median_blur.denoise_model.evaluate(x_test_adv_cw_resnet, y_test_atk)\n",
    "print('Accuracy [Median Blur] on test data: {:4.2f}%'.format(accuracy_test * 100))"
   ]
  },
  {
   "cell_type": "code",
   "execution_count": 50,
   "metadata": {},
   "outputs": [
    {
     "name": "stdout",
     "output_type": "stream",
     "text": [
      "Accuracy [Non-Local Means] on test data: 70.00%\n"
     ]
    }
   ],
   "source": [
    "loss_test, accuracy_test = dm_nl_means.denoise_model.evaluate(x_test_adv_cw_resnet, y_test_atk)\n",
    "print('Accuracy [Non-Local Means] on test data: {:4.2f}%'.format(accuracy_test * 100))"
   ]
  },
  {
   "cell_type": "code",
   "execution_count": 51,
   "metadata": {},
   "outputs": [
    {
     "name": "stdout",
     "output_type": "stream",
     "text": [
      "Accuracy [DAE_ResNet & Model_ResNet] on test data: 67.00%\n"
     ]
    }
   ],
   "source": [
    "loss_test, accuracy_test = dm_dae_resnet_model_resnet.denoise_model.evaluate(x_test_adv_cw_resnet, y_test_atk)\n",
    "print('Accuracy [DAE_ResNet & Model_ResNet] on test data: {:4.2f}%'.format(accuracy_test * 100))"
   ]
  },
  {
   "cell_type": "code",
   "execution_count": 52,
   "metadata": {},
   "outputs": [
    {
     "name": "stdout",
     "output_type": "stream",
     "text": [
      "Accuracy [DAE_VGG & Model_ResNet] on test data: 65.00%\n"
     ]
    }
   ],
   "source": [
    "loss_test, accuracy_test = dm_dae_vgg_model_resnet.denoise_model.evaluate(x_test_adv_cw_resnet, y_test_atk)\n",
    "print('Accuracy [DAE_VGG & Model_ResNet] on test data: {:4.2f}%'.format(accuracy_test * 100))"
   ]
  },
  {
   "cell_type": "markdown",
   "metadata": {},
   "source": [
    "#### PGD accuracy"
   ]
  },
  {
   "cell_type": "code",
   "execution_count": 53,
   "metadata": {},
   "outputs": [
    {
     "name": "stdout",
     "output_type": "stream",
     "text": [
      "Accuracy [Gaussian Blur] on test data: 35.00%\n"
     ]
    }
   ],
   "source": [
    "loss_test, accuracy_test = dm_gaussian_blur.denoise_model.evaluate(x_test_adv_pgd_resnet, y_test_atk)\n",
    "print('Accuracy [Gaussian Blur] on test data: {:4.2f}%'.format(accuracy_test * 100))"
   ]
  },
  {
   "cell_type": "code",
   "execution_count": 54,
   "metadata": {},
   "outputs": [
    {
     "name": "stdout",
     "output_type": "stream",
     "text": [
      "Accuracy [Median Blur] on test data: 43.00%\n"
     ]
    }
   ],
   "source": [
    "loss_test, accuracy_test = dm_median_blur.denoise_model.evaluate(x_test_adv_pgd_resnet, y_test_atk)\n",
    "print('Accuracy [Median Blur] on test data: {:4.2f}%'.format(accuracy_test * 100))"
   ]
  },
  {
   "cell_type": "code",
   "execution_count": 55,
   "metadata": {},
   "outputs": [
    {
     "name": "stdout",
     "output_type": "stream",
     "text": [
      "Accuracy [Non-Local Means] on test data: 31.00%\n"
     ]
    }
   ],
   "source": [
    "loss_test, accuracy_test = dm_nl_means.denoise_model.evaluate(x_test_adv_pgd_resnet, y_test_atk)\n",
    "print('Accuracy [Non-Local Means] on test data: {:4.2f}%'.format(accuracy_test * 100))"
   ]
  },
  {
   "cell_type": "code",
   "execution_count": 56,
   "metadata": {},
   "outputs": [
    {
     "name": "stdout",
     "output_type": "stream",
     "text": [
      "Accuracy [DAE_ResNet & Model_ResNet] on test data: 57.00%\n"
     ]
    }
   ],
   "source": [
    "loss_test, accuracy_test = dm_dae_resnet_model_resnet.denoise_model.evaluate(x_test_adv_pgd_resnet, y_test_atk)\n",
    "print('Accuracy [DAE_ResNet & Model_ResNet] on test data: {:4.2f}%'.format(accuracy_test * 100))"
   ]
  },
  {
   "cell_type": "code",
   "execution_count": 57,
   "metadata": {},
   "outputs": [
    {
     "name": "stdout",
     "output_type": "stream",
     "text": [
      "Accuracy [DAE_VGG & Model_ResNet] on test data: 55.00%\n"
     ]
    }
   ],
   "source": [
    "loss_test, accuracy_test = dm_dae_vgg_model_resnet.denoise_model.evaluate(x_test_adv_pgd_resnet, y_test_atk)\n",
    "print('Accuracy [DAE_VGG & Model_ResNet] on test data: {:4.2f}%'.format(accuracy_test * 100))"
   ]
  },
  {
   "cell_type": "markdown",
   "metadata": {},
   "source": [
    "### Denoiser test after training validation model"
   ]
  },
  {
   "cell_type": "code",
   "execution_count": 58,
   "metadata": {},
   "outputs": [],
   "source": [
    "dm_gaussian_blur.denoise_model.load_weights(dm_gaussian_blur_path)\n",
    "dm_median_blur.denoise_model.load_weights(dm_median_blur_path)\n",
    "dm_dae_resnet_model_resnet.denoise_model.load_weights(dm_dae_resnet_model_resnet_path)\n",
    "dm_dae_vgg_model_resnet.denoise_model.load_weights(dm_dae_vgg_model_resnet_path)\n",
    "dm_dae_resnet_model_vgg.denoise_model.load_weights(dm_dae_resnet_model_vgg_path)\n",
    "dm_dae_vgg_model_vgg.denoise_model.load_weights(dm_dae_vgg_model_vgg_path)"
   ]
  },
  {
   "cell_type": "markdown",
   "metadata": {},
   "source": [
    "#### Original image accuracy"
   ]
  },
  {
   "cell_type": "code",
   "execution_count": 59,
   "metadata": {},
   "outputs": [
    {
     "name": "stdout",
     "output_type": "stream",
     "text": [
      "Accuracy [Gaussian Blur] on test data: 71.00%\n"
     ]
    }
   ],
   "source": [
    "loss_test, accuracy_test = dm_gaussian_blur.denoise_model.evaluate(x_test_atk, y_test_atk)\n",
    "print('Accuracy [Gaussian Blur] on test data: {:4.2f}%'.format(accuracy_test * 100))"
   ]
  },
  {
   "cell_type": "code",
   "execution_count": 60,
   "metadata": {},
   "outputs": [
    {
     "name": "stdout",
     "output_type": "stream",
     "text": [
      "Accuracy [Median Blur] on test data: 76.00%\n"
     ]
    }
   ],
   "source": [
    "loss_test, accuracy_test = dm_median_blur.denoise_model.evaluate(x_test_atk, y_test_atk)\n",
    "print('Accuracy [Median Blur] on test data: {:4.2f}%'.format(accuracy_test * 100))"
   ]
  },
  {
   "cell_type": "code",
   "execution_count": 61,
   "metadata": {},
   "outputs": [
    {
     "name": "stdout",
     "output_type": "stream",
     "text": [
      "Accuracy [DAE_ResNet & Model_ResNet] on test data: 87.00%\n"
     ]
    }
   ],
   "source": [
    "loss_test, accuracy_test = dm_dae_resnet_model_resnet.denoise_model.evaluate(x_test_atk, y_test_atk)\n",
    "print('Accuracy [DAE_ResNet & Model_ResNet] on test data: {:4.2f}%'.format(accuracy_test * 100))"
   ]
  },
  {
   "cell_type": "code",
   "execution_count": 62,
   "metadata": {},
   "outputs": [
    {
     "name": "stdout",
     "output_type": "stream",
     "text": [
      "Accuracy [DAE_VGG & Model_ResNet] on test data: 83.00%\n"
     ]
    }
   ],
   "source": [
    "loss_test, accuracy_test = dm_dae_vgg_model_resnet.denoise_model.evaluate(x_test_atk, y_test_atk)\n",
    "print('Accuracy [DAE_VGG & Model_ResNet] on test data: {:4.2f}%'.format(accuracy_test * 100))"
   ]
  },
  {
   "cell_type": "code",
   "execution_count": 63,
   "metadata": {},
   "outputs": [
    {
     "name": "stdout",
     "output_type": "stream",
     "text": [
      "Accuracy [DAE_ResNet & Model_VGG] on test data: 77.00%\n"
     ]
    }
   ],
   "source": [
    "loss_test, accuracy_test = dm_dae_resnet_model_vgg.denoise_model.evaluate(x_test_atk, y_test_atk)\n",
    "print('Accuracy [DAE_ResNet & Model_VGG] on test data: {:4.2f}%'.format(accuracy_test * 100))"
   ]
  },
  {
   "cell_type": "code",
   "execution_count": 64,
   "metadata": {},
   "outputs": [
    {
     "name": "stdout",
     "output_type": "stream",
     "text": [
      "Accuracy [DAE_VGG & Model_VGG] on test data: 73.00%\n"
     ]
    }
   ],
   "source": [
    "loss_test, accuracy_test = dm_dae_vgg_model_vgg.denoise_model.evaluate(x_test_atk, y_test_atk)\n",
    "print('Accuracy [DAE_VGG & Model_VGG] on test data: {:4.2f}%'.format(accuracy_test * 100))"
   ]
  },
  {
   "cell_type": "markdown",
   "metadata": {},
   "source": [
    "#### FGSM accuracy"
   ]
  },
  {
   "cell_type": "code",
   "execution_count": 65,
   "metadata": {},
   "outputs": [
    {
     "name": "stdout",
     "output_type": "stream",
     "text": [
      "Accuracy [Gaussian Blur] on test data: 61.00%\n"
     ]
    }
   ],
   "source": [
    "loss_test, accuracy_test = dm_gaussian_blur.denoise_model.evaluate(x_test_adv_fgsm_resnet, y_test_atk)\n",
    "print('Accuracy [Gaussian Blur] on test data: {:4.2f}%'.format(accuracy_test * 100))"
   ]
  },
  {
   "cell_type": "code",
   "execution_count": 66,
   "metadata": {},
   "outputs": [
    {
     "name": "stdout",
     "output_type": "stream",
     "text": [
      "Accuracy [Median Blur] on test data: 72.00%\n"
     ]
    }
   ],
   "source": [
    "loss_test, accuracy_test = dm_median_blur.denoise_model.evaluate(x_test_adv_fgsm_resnet, y_test_atk)\n",
    "print('Accuracy [Median Blur] on test data: {:4.2f}%'.format(accuracy_test * 100))"
   ]
  },
  {
   "cell_type": "code",
   "execution_count": 67,
   "metadata": {},
   "outputs": [
    {
     "name": "stdout",
     "output_type": "stream",
     "text": [
      "Accuracy [DAE_ResNet & Model_ResNet] on test data: 78.00%\n"
     ]
    }
   ],
   "source": [
    "loss_test, accuracy_test = dm_dae_resnet_model_resnet.denoise_model.evaluate(x_test_adv_fgsm_resnet, y_test_atk)\n",
    "print('Accuracy [DAE_ResNet & Model_ResNet] on test data: {:4.2f}%'.format(accuracy_test * 100))"
   ]
  },
  {
   "cell_type": "code",
   "execution_count": 68,
   "metadata": {},
   "outputs": [
    {
     "name": "stdout",
     "output_type": "stream",
     "text": [
      "Accuracy [DAE_VGG & Model_ResNet] on test data: 77.00%\n"
     ]
    }
   ],
   "source": [
    "loss_test, accuracy_test = dm_dae_vgg_model_resnet.denoise_model.evaluate(x_test_adv_fgsm_resnet, y_test_atk)\n",
    "print('Accuracy [DAE_VGG & Model_ResNet] on test data: {:4.2f}%'.format(accuracy_test * 100))"
   ]
  },
  {
   "cell_type": "markdown",
   "metadata": {},
   "source": [
    "#### C&W accuracy"
   ]
  },
  {
   "cell_type": "code",
   "execution_count": 69,
   "metadata": {},
   "outputs": [
    {
     "name": "stdout",
     "output_type": "stream",
     "text": [
      "Accuracy [Gaussian Blur] on test data: 68.00%\n"
     ]
    }
   ],
   "source": [
    "loss_test, accuracy_test = dm_gaussian_blur.denoise_model.evaluate(x_test_adv_cw_resnet, y_test_atk)\n",
    "print('Accuracy [Gaussian Blur] on test data: {:4.2f}%'.format(accuracy_test * 100))"
   ]
  },
  {
   "cell_type": "code",
   "execution_count": 70,
   "metadata": {},
   "outputs": [
    {
     "name": "stdout",
     "output_type": "stream",
     "text": [
      "Accuracy [Median Blur] on test data: 76.00%\n"
     ]
    }
   ],
   "source": [
    "loss_test, accuracy_test = dm_median_blur.denoise_model.evaluate(x_test_adv_cw_resnet, y_test_atk)\n",
    "print('Accuracy [Median Blur] on test data: {:4.2f}%'.format(accuracy_test * 100))"
   ]
  },
  {
   "cell_type": "code",
   "execution_count": 71,
   "metadata": {},
   "outputs": [
    {
     "name": "stdout",
     "output_type": "stream",
     "text": [
      "Accuracy [DAE_ResNet & Model_ResNet] on test data: 86.00%\n"
     ]
    }
   ],
   "source": [
    "loss_test, accuracy_test = dm_dae_resnet_model_resnet.denoise_model.evaluate(x_test_adv_cw_resnet, y_test_atk)\n",
    "print('Accuracy [DAE_ResNet & Model_ResNet] on test data: {:4.2f}%'.format(accuracy_test * 100))"
   ]
  },
  {
   "cell_type": "code",
   "execution_count": 72,
   "metadata": {},
   "outputs": [
    {
     "name": "stdout",
     "output_type": "stream",
     "text": [
      "Accuracy [DAE_VGG & Model_ResNet] on test data: 82.00%\n"
     ]
    }
   ],
   "source": [
    "loss_test, accuracy_test = dm_dae_vgg_model_resnet.denoise_model.evaluate(x_test_adv_cw_resnet, y_test_atk)\n",
    "print('Accuracy [DAE_VGG & Model_ResNet] on test data: {:4.2f}%'.format(accuracy_test * 100))"
   ]
  },
  {
   "cell_type": "markdown",
   "metadata": {},
   "source": [
    "#### PGD accuracy"
   ]
  },
  {
   "cell_type": "code",
   "execution_count": 73,
   "metadata": {},
   "outputs": [
    {
     "name": "stdout",
     "output_type": "stream",
     "text": [
      "Accuracy [Gaussian Blur] on test data: 62.00%\n"
     ]
    }
   ],
   "source": [
    "loss_test, accuracy_test = dm_gaussian_blur.denoise_model.evaluate(x_test_adv_pgd_resnet, y_test_atk)\n",
    "print('Accuracy [Gaussian Blur] on test data: {:4.2f}%'.format(accuracy_test * 100))"
   ]
  },
  {
   "cell_type": "code",
   "execution_count": 74,
   "metadata": {},
   "outputs": [
    {
     "name": "stdout",
     "output_type": "stream",
     "text": [
      "Accuracy [Median Blur] on test data: 70.00%\n"
     ]
    }
   ],
   "source": [
    "loss_test, accuracy_test = dm_median_blur.denoise_model.evaluate(x_test_adv_pgd_resnet, y_test_atk)\n",
    "print('Accuracy [Median Blur] on test data: {:4.2f}%'.format(accuracy_test * 100))"
   ]
  },
  {
   "cell_type": "code",
   "execution_count": 75,
   "metadata": {},
   "outputs": [
    {
     "name": "stdout",
     "output_type": "stream",
     "text": [
      "Accuracy [DAE_ResNet & Model_ResNet] on test data: 81.00%\n"
     ]
    }
   ],
   "source": [
    "loss_test, accuracy_test = dm_dae_resnet_model_resnet.denoise_model.evaluate(x_test_adv_pgd_resnet, y_test_atk)\n",
    "print('Accuracy [DAE_ResNet & Model_ResNet] on test data: {:4.2f}%'.format(accuracy_test * 100))"
   ]
  },
  {
   "cell_type": "code",
   "execution_count": 76,
   "metadata": {},
   "outputs": [
    {
     "name": "stdout",
     "output_type": "stream",
     "text": [
      "Accuracy [DAE_VGG & Model_ResNet] on test data: 77.00%\n"
     ]
    }
   ],
   "source": [
    "loss_test, accuracy_test = dm_dae_vgg_model_resnet.denoise_model.evaluate(x_test_adv_pgd_resnet, y_test_atk)\n",
    "print('Accuracy [DAE_VGG & Model_ResNet] on test data: {:4.2f}%'.format(accuracy_test * 100))"
   ]
  },
  {
   "cell_type": "markdown",
   "metadata": {},
   "source": [
    "### Attack test & Transferability test on validation model (just DAE based)"
   ]
  },
  {
   "cell_type": "code",
   "execution_count": 77,
   "metadata": {},
   "outputs": [],
   "source": [
    "dm_dae_resnet_model_resnet_classifier = KerasClassifier(model=dm_dae_resnet_model_resnet.denoise_model, use_logits=True, clip_values=(0, 1))\n",
    "dm_dae_vgg_model_resnet_classifier = KerasClassifier(model=dm_dae_vgg_model_resnet.denoise_model, use_logits=True, clip_values=(0, 1))\n",
    "dm_dae_resnet_model_vgg_classifier = KerasClassifier(model=dm_dae_resnet_model_vgg.denoise_model, use_logits=True, clip_values=(0, 1))\n",
    "dm_dae_vgg_model_vgg_classifier = KerasClassifier(model=dm_dae_vgg_model_vgg.denoise_model, use_logits=True, clip_values=(0, 1))"
   ]
  },
  {
   "cell_type": "markdown",
   "metadata": {},
   "source": [
    "#### PGD"
   ]
  },
  {
   "cell_type": "code",
   "execution_count": 78,
   "metadata": {},
   "outputs": [],
   "source": [
    "attack_pgd_dae_resnet_model_resnet = BasicIterativeMethod(estimator=dm_dae_resnet_model_resnet_classifier, eps=0.03, eps_step=0.01, max_iter=100)\n",
    "attack_pgd_dae_vgg_model_resnet = BasicIterativeMethod(estimator=dm_dae_vgg_model_resnet_classifier, eps=0.03, eps_step=0.01, max_iter=100)\n",
    "attack_pgd_dae_resnet_model_vgg = BasicIterativeMethod(estimator=dm_dae_resnet_model_vgg_classifier, eps=0.03, eps_step=0.01, max_iter=100)\n",
    "attack_pgd_dae_vgg_model_vgg = BasicIterativeMethod(estimator=dm_dae_vgg_model_vgg_classifier, eps=0.03, eps_step=0.01, max_iter=100)\n",
    "\n",
    "x_test_adv_pgd_dae_resnet_model_resnet = attack_pgd_dae_resnet_model_resnet.generate(x_test_atk)\n",
    "x_test_adv_pgd_dae_vgg_model_resnet = attack_pgd_dae_vgg_model_resnet.generate(x_test_atk)\n",
    "x_test_adv_pgd_dae_resnet_model_vgg = attack_pgd_dae_resnet_model_vgg.generate(x_test_atk)\n",
    "x_test_adv_pgd_dae_vgg_model_vgg = attack_pgd_dae_vgg_model_vgg.generate(x_test_atk)"
   ]
  },
  {
   "cell_type": "markdown",
   "metadata": {},
   "source": [
    "##### Test of DAE_ResNet & Model_ResNet attack sample"
   ]
  },
  {
   "cell_type": "code",
   "execution_count": 79,
   "metadata": {},
   "outputs": [
    {
     "name": "stdout",
     "output_type": "stream",
     "text": [
      "Accuracy [DAE_ResNet & Model_ResNet]: 6.00%\n"
     ]
    }
   ],
   "source": [
    "loss_test, accuracy_test = dm_dae_resnet_model_resnet.denoise_model.evaluate(x_test_adv_pgd_dae_resnet_model_resnet, y_test_atk)\n",
    "print('Accuracy [DAE_ResNet & Model_ResNet]: {:4.2f}%'.format(accuracy_test * 100))"
   ]
  },
  {
   "cell_type": "code",
   "execution_count": 80,
   "metadata": {},
   "outputs": [
    {
     "name": "stdout",
     "output_type": "stream",
     "text": [
      "Accuracy [DAE_VGG & Model_ResNet]: 47.00%\n"
     ]
    }
   ],
   "source": [
    "loss_test, accuracy_test = dm_dae_vgg_model_resnet.denoise_model.evaluate(x_test_adv_pgd_dae_resnet_model_resnet, y_test_atk)\n",
    "print('Accuracy [DAE_VGG & Model_ResNet]: {:4.2f}%'.format(accuracy_test * 100))"
   ]
  },
  {
   "cell_type": "code",
   "execution_count": 81,
   "metadata": {},
   "outputs": [
    {
     "name": "stdout",
     "output_type": "stream",
     "text": [
      "Accuracy [DAE_ResNet & Model_VGG]: 58.00%\n"
     ]
    }
   ],
   "source": [
    "loss_test, accuracy_test = dm_dae_resnet_model_vgg.denoise_model.evaluate(x_test_adv_pgd_dae_resnet_model_resnet, y_test_atk)\n",
    "print('Accuracy [DAE_ResNet & Model_VGG]: {:4.2f}%'.format(accuracy_test * 100))"
   ]
  },
  {
   "cell_type": "code",
   "execution_count": 82,
   "metadata": {},
   "outputs": [
    {
     "name": "stdout",
     "output_type": "stream",
     "text": [
      "Accuracy [DAE_VGG & Model_VGG]: 53.00%\n"
     ]
    }
   ],
   "source": [
    "loss_test, accuracy_test = dm_dae_vgg_model_vgg.denoise_model.evaluate(x_test_adv_pgd_dae_resnet_model_resnet, y_test_atk)\n",
    "print('Accuracy [DAE_VGG & Model_VGG]: {:4.2f}%'.format(accuracy_test * 100))"
   ]
  },
  {
   "cell_type": "markdown",
   "metadata": {},
   "source": [
    "##### Test of DAE_VGG & Model_ResNet attack sample"
   ]
  },
  {
   "cell_type": "code",
   "execution_count": 83,
   "metadata": {},
   "outputs": [
    {
     "name": "stdout",
     "output_type": "stream",
     "text": [
      "Accuracy [DAE_ResNet & Model_ResNet]: 51.00%\n"
     ]
    }
   ],
   "source": [
    "loss_test, accuracy_test = dm_dae_resnet_model_resnet.denoise_model.evaluate(x_test_adv_pgd_dae_vgg_model_resnet, y_test_atk)\n",
    "print('Accuracy [DAE_ResNet & Model_ResNet]: {:4.2f}%'.format(accuracy_test * 100))"
   ]
  },
  {
   "cell_type": "code",
   "execution_count": 84,
   "metadata": {},
   "outputs": [
    {
     "name": "stdout",
     "output_type": "stream",
     "text": [
      "Accuracy [DAE_VGG & Model_ResNet]: 10.00%\n"
     ]
    }
   ],
   "source": [
    "loss_test, accuracy_test = dm_dae_vgg_model_resnet.denoise_model.evaluate(x_test_adv_pgd_dae_vgg_model_resnet, y_test_atk)\n",
    "print('Accuracy [DAE_VGG & Model_ResNet]: {:4.2f}%'.format(accuracy_test * 100))"
   ]
  },
  {
   "cell_type": "code",
   "execution_count": 85,
   "metadata": {},
   "outputs": [
    {
     "name": "stdout",
     "output_type": "stream",
     "text": [
      "Accuracy [DAE_ResNet & Model_VGG]: 69.00%\n"
     ]
    }
   ],
   "source": [
    "loss_test, accuracy_test = dm_dae_resnet_model_vgg.denoise_model.evaluate(x_test_adv_pgd_dae_vgg_model_resnet, y_test_atk)\n",
    "print('Accuracy [DAE_ResNet & Model_VGG]: {:4.2f}%'.format(accuracy_test * 100))"
   ]
  },
  {
   "cell_type": "code",
   "execution_count": 86,
   "metadata": {},
   "outputs": [
    {
     "name": "stdout",
     "output_type": "stream",
     "text": [
      "Accuracy [DAE_VGG & Model_VGG]: 60.00%\n"
     ]
    }
   ],
   "source": [
    "loss_test, accuracy_test = dm_dae_vgg_model_vgg.denoise_model.evaluate(x_test_adv_pgd_dae_vgg_model_resnet, y_test_atk)\n",
    "print('Accuracy [DAE_VGG & Model_VGG]: {:4.2f}%'.format(accuracy_test * 100))"
   ]
  },
  {
   "cell_type": "markdown",
   "metadata": {},
   "source": [
    "##### Test of DAE_ResNet & Model_VGG attack sample"
   ]
  },
  {
   "cell_type": "code",
   "execution_count": 87,
   "metadata": {},
   "outputs": [
    {
     "name": "stdout",
     "output_type": "stream",
     "text": [
      "Accuracy [DAE_ResNet & Model_ResNet]: 62.00%\n"
     ]
    }
   ],
   "source": [
    "loss_test, accuracy_test = dm_dae_resnet_model_resnet.denoise_model.evaluate(x_test_adv_pgd_dae_resnet_model_vgg, y_test_atk)\n",
    "print('Accuracy [DAE_ResNet & Model_ResNet]: {:4.2f}%'.format(accuracy_test * 100))"
   ]
  },
  {
   "cell_type": "code",
   "execution_count": 88,
   "metadata": {},
   "outputs": [
    {
     "name": "stdout",
     "output_type": "stream",
     "text": [
      "Accuracy [DAE_VGG & Model_ResNet]: 60.00%\n"
     ]
    }
   ],
   "source": [
    "loss_test, accuracy_test = dm_dae_vgg_model_resnet.denoise_model.evaluate(x_test_adv_pgd_dae_resnet_model_vgg, y_test_atk)\n",
    "print('Accuracy [DAE_VGG & Model_ResNet]: {:4.2f}%'.format(accuracy_test * 100))"
   ]
  },
  {
   "cell_type": "code",
   "execution_count": 89,
   "metadata": {},
   "outputs": [
    {
     "name": "stdout",
     "output_type": "stream",
     "text": [
      "Accuracy [DAE_ResNet & Model_VGG]: 18.00%\n"
     ]
    }
   ],
   "source": [
    "loss_test, accuracy_test = dm_dae_resnet_model_vgg.denoise_model.evaluate(x_test_adv_pgd_dae_resnet_model_vgg, y_test_atk)\n",
    "print('Accuracy [DAE_ResNet & Model_VGG]: {:4.2f}%'.format(accuracy_test * 100))"
   ]
  },
  {
   "cell_type": "code",
   "execution_count": 90,
   "metadata": {},
   "outputs": [
    {
     "name": "stdout",
     "output_type": "stream",
     "text": [
      "Accuracy [DAE_VGG & Model_VGG]: 53.00%\n"
     ]
    }
   ],
   "source": [
    "loss_test, accuracy_test = dm_dae_vgg_model_vgg.denoise_model.evaluate(x_test_adv_pgd_dae_resnet_model_vgg, y_test_atk)\n",
    "print('Accuracy [DAE_VGG & Model_VGG]: {:4.2f}%'.format(accuracy_test * 100))"
   ]
  },
  {
   "cell_type": "markdown",
   "metadata": {},
   "source": [
    "##### Test of DAE_VGG & Model_VGG attack sample"
   ]
  },
  {
   "cell_type": "code",
   "execution_count": 91,
   "metadata": {},
   "outputs": [
    {
     "name": "stdout",
     "output_type": "stream",
     "text": [
      "Accuracy [DAE_ResNet & Model_ResNet]: 69.00%\n"
     ]
    }
   ],
   "source": [
    "loss_test, accuracy_test = dm_dae_resnet_model_resnet.denoise_model.evaluate(x_test_adv_pgd_dae_vgg_model_vgg, y_test_atk)\n",
    "print('Accuracy [DAE_ResNet & Model_ResNet]: {:4.2f}%'.format(accuracy_test * 100))"
   ]
  },
  {
   "cell_type": "code",
   "execution_count": 92,
   "metadata": {},
   "outputs": [
    {
     "name": "stdout",
     "output_type": "stream",
     "text": [
      "Accuracy [DAE_VGG & Model_ResNet]: 63.00%\n"
     ]
    }
   ],
   "source": [
    "loss_test, accuracy_test = dm_dae_vgg_model_resnet.denoise_model.evaluate(x_test_adv_pgd_dae_vgg_model_vgg, y_test_atk)\n",
    "print('Accuracy [DAE_VGG & Model_ResNet]: {:4.2f}%'.format(accuracy_test * 100))"
   ]
  },
  {
   "cell_type": "code",
   "execution_count": 93,
   "metadata": {},
   "outputs": [
    {
     "name": "stdout",
     "output_type": "stream",
     "text": [
      "Accuracy [DAE_ResNet & Model_VGG]: 62.00%\n"
     ]
    }
   ],
   "source": [
    "loss_test, accuracy_test = dm_dae_resnet_model_vgg.denoise_model.evaluate(x_test_adv_pgd_dae_vgg_model_vgg, y_test_atk)\n",
    "print('Accuracy [DAE_ResNet & Model_VGG]: {:4.2f}%'.format(accuracy_test * 100))"
   ]
  },
  {
   "cell_type": "code",
   "execution_count": 94,
   "metadata": {},
   "outputs": [
    {
     "name": "stdout",
     "output_type": "stream",
     "text": [
      "Accuracy [DAE_VGG & Model_VGG]: 19.00%\n"
     ]
    }
   ],
   "source": [
    "loss_test, accuracy_test = dm_dae_vgg_model_vgg.denoise_model.evaluate(x_test_adv_pgd_dae_vgg_model_vgg, y_test_atk)\n",
    "print('Accuracy [DAE_VGG & Model_VGG]: {:4.2f}%'.format(accuracy_test * 100))"
   ]
  },
  {
   "cell_type": "markdown",
   "metadata": {},
   "source": [
    "##### Test of DAE_ResNet & Model_ResNet attack sample to original model"
   ]
  },
  {
   "cell_type": "code",
   "execution_count": 95,
   "metadata": {},
   "outputs": [
    {
     "name": "stdout",
     "output_type": "stream",
     "text": [
      "Accuracy [DAE_ResNet & Model_ResNet]: 67.00%\n"
     ]
    }
   ],
   "source": [
    "loss_test, accuracy_test = model_resnet.evaluate(x_test_adv_pgd_dae_resnet_model_resnet, y_test_atk)\n",
    "print('Accuracy [DAE_ResNet & Model_ResNet]: {:4.2f}%'.format(accuracy_test * 100))"
   ]
  },
  {
   "cell_type": "markdown",
   "metadata": {},
   "source": [
    "### Denoiser test"
   ]
  },
  {
   "cell_type": "markdown",
   "metadata": {},
   "source": [
    "#### FGSM"
   ]
  },
  {
   "cell_type": "code",
   "execution_count": 96,
   "metadata": {},
   "outputs": [],
   "source": [
    "gaussian_blur_fgsm = dm_gaussian_blur.denoiser.predict(x_test_adv_fgsm_resnet)\n",
    "median_blur_fgsm = dm_median_blur.denoiser.predict(x_test_adv_fgsm_resnet)\n",
    "nl_means_fgsm = dm_nl_means.denoiser.predict(x_test_adv_fgsm_resnet)\n",
    "dae_fgsm = dm_dae_resnet_model_resnet.denoiser.predict(x_test_adv_fgsm_resnet)"
   ]
  },
  {
   "cell_type": "code",
   "execution_count": 97,
   "metadata": {},
   "outputs": [
    {
     "data": {
      "image/png": "[encoded data removed]",
      "text/plain": [
       "<Figure size 432x288 with 1 Axes>"
      ]
     },
     "metadata": {
      "needs_background": "light"
     },
     "output_type": "display_data"
    }
   ],
   "source": [
    "plt_show(gaussian_blur_fgsm[test_index])"
   ]
  },
  {
   "cell_type": "code",
   "execution_count": 98,
   "metadata": {},
   "outputs": [
    {
     "data": {
      "image/png": "[encoded data removed]",
      "text/plain": [
       "<Figure size 432x288 with 1 Axes>"
      ]
     },
     "metadata": {
      "needs_background": "light"
     },
     "output_type": "display_data"
    }
   ],
   "source": [
    "plt_show(median_blur_fgsm[test_index])"
   ]
  },
  {
   "cell_type": "code",
   "execution_count": 99,
   "metadata": {},
   "outputs": [
    {
     "data": {
      "image/png": "[encoded data removed]",
      "text/plain": [
       "<Figure size 432x288 with 1 Axes>"
      ]
     },
     "metadata": {
      "needs_background": "light"
     },
     "output_type": "display_data"
    }
   ],
   "source": [
    "plt_show(nl_means_fgsm[test_index])"
   ]
  },
  {
   "cell_type": "code",
   "execution_count": 100,
   "metadata": {},
   "outputs": [
    {
     "data": {
      "image/png": "[encoded data removed]",
      "text/plain": [
       "<Figure size 432x288 with 1 Axes>"
      ]
     },
     "metadata": {
      "needs_background": "light"
     },
     "output_type": "display_data"
    }
   ],
   "source": [
    "plt_show(dae_fgsm[test_index])"
   ]
  },
  {
   "cell_type": "markdown",
   "metadata": {},
   "source": [
    "#### C&W"
   ]
  },
  {
   "cell_type": "code",
   "execution_count": 101,
   "metadata": {},
   "outputs": [],
   "source": [
    "gaussian_blur_cw = dm_gaussian_blur.denoiser.predict(x_test_adv_cw_resnet)\n",
    "median_blur_cw = dm_median_blur.denoiser.predict(x_test_adv_cw_resnet)\n",
    "nl_means_cw = dm_nl_means.denoiser.predict(x_test_adv_cw_resnet)\n",
    "dae_cw = dm_dae_resnet_model_resnet.denoiser.predict(x_test_adv_cw_resnet)"
   ]
  },
  {
   "cell_type": "code",
   "execution_count": 102,
   "metadata": {},
   "outputs": [
    {
     "data": {
      "image/png": "[encoded data removed]",
      "text/plain": [
       "<Figure size 432x288 with 1 Axes>"
      ]
     },
     "metadata": {
      "needs_background": "light"
     },
     "output_type": "display_data"
    }
   ],
   "source": [
    "plt_show(gaussian_blur_cw[test_index])"
   ]
  },
  {
   "cell_type": "code",
   "execution_count": 103,
   "metadata": {},
   "outputs": [
    {
     "data": {
      "image/png": "[encoded data removed]",
      "text/plain": [
       "<Figure size 432x288 with 1 Axes>"
      ]
     },
     "metadata": {
      "needs_background": "light"
     },
     "output_type": "display_data"
    }
   ],
   "source": [
    "plt_show(median_blur_cw[test_index])"
   ]
  },
  {
   "cell_type": "code",
   "execution_count": 104,
   "metadata": {},
   "outputs": [
    {
     "data": {
      "image/png": "[encoded data removed]",
      "text/plain": [
       "<Figure size 432x288 with 1 Axes>"
      ]
     },
     "metadata": {
      "needs_background": "light"
     },
     "output_type": "display_data"
    }
   ],
   "source": [
    "plt_show(nl_means_cw[test_index])"
   ]
  },
  {
   "cell_type": "code",
   "execution_count": 105,
   "metadata": {},
   "outputs": [
    {
     "data": {
      "image/png": "[encoded data removed]",
      "text/plain": [
       "<Figure size 432x288 with 1 Axes>"
      ]
     },
     "metadata": {
      "needs_background": "light"
     },
     "output_type": "display_data"
    }
   ],
   "source": [
    "plt_show(dae_cw[test_index])"
   ]
  },
  {
   "cell_type": "markdown",
   "metadata": {},
   "source": [
    "#### PGD"
   ]
  },
  {
   "cell_type": "code",
   "execution_count": 106,
   "metadata": {},
   "outputs": [],
   "source": [
    "gaussian_blur_pgd = dm_gaussian_blur.denoiser.predict(x_test_adv_pgd_resnet)\n",
    "median_blur_pgd = dm_median_blur.denoiser.predict(x_test_adv_pgd_resnet)\n",
    "nl_means_pgd = dm_nl_means.denoiser.predict(x_test_adv_pgd_resnet)\n",
    "dae_pgd = dm_dae_resnet_model_resnet.denoiser.predict(x_test_adv_pgd_resnet)"
   ]
  },
  {
   "cell_type": "code",
   "execution_count": 107,
   "metadata": {},
   "outputs": [
    {
     "data": {
      "image/png": "[encoded data removed]",
      "text/plain": [
       "<Figure size 432x288 with 1 Axes>"
      ]
     },
     "metadata": {
      "needs_background": "light"
     },
     "output_type": "display_data"
    }
   ],
   "source": [
    "plt_show(gaussian_blur_pgd[test_index])"
   ]
  },
  {
   "cell_type": "code",
   "execution_count": 108,
   "metadata": {},
   "outputs": [
    {
     "data": {
      "image/png": "[encoded data removed]",
      "text/plain": [
       "<Figure size 432x288 with 1 Axes>"
      ]
     },
     "metadata": {
      "needs_background": "light"
     },
     "output_type": "display_data"
    }
   ],
   "source": [
    "plt_show(median_blur_pgd[test_index])"
   ]
  },
  {
   "cell_type": "code",
   "execution_count": 109,
   "metadata": {},
   "outputs": [
    {
     "data": {
      "image/png": "[encoded data removed]",
      "text/plain": [
       "<Figure size 432x288 with 1 Axes>"
      ]
     },
     "metadata": {
      "needs_background": "light"
     },
     "output_type": "display_data"
    }
   ],
   "source": [
    "plt_show(nl_means_pgd[test_index])"
   ]
  },
  {
   "cell_type": "code",
   "execution_count": 110,
   "metadata": {},
   "outputs": [
    {
     "data": {
      "image/png": "[encoded data removed]",
      "text/plain": [
       "<Figure size 432x288 with 1 Axes>"
      ]
     },
     "metadata": {
      "needs_background": "light"
     },
     "output_type": "display_data"
    }
   ],
   "source": [
    "plt_show(dae_pgd[test_index])"
   ]
  }
 ],
 "metadata": {
  "kernelspec": {
   "display_name": "Python 3",
   "language": "python",
   "name": "python3"
  },
  "language_info": {
   "codemirror_mode": {
    "name": "ipython",
    "version": 3
   },
   "file_extension": ".py",
   "mimetype": "text/x-python",
   "name": "python",
   "nbconvert_exporter": "python",
   "pygments_lexer": "ipython3",
   "version": "3.6.9"
  }
 },
 "nbformat": 4,
 "nbformat_minor": 4
}
