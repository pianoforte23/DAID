{
 "cells": [
  {
   "cell_type": "code",
   "execution_count": 1,
   "metadata": {},
   "outputs": [
    {
     "name": "stderr",
     "output_type": "stream",
     "text": [
      "Using TensorFlow backend.\n"
     ]
    }
   ],
   "source": [
    "import numpy as np\n",
    "import os\n",
    "import tensorflow as tf\n",
    "import keras\n",
    "import setup_mnist\n",
    "import denoise_model\n",
    "from matplotlib import pyplot as plt\n",
    "from art.estimators.classification import KerasClassifier\n",
    "from art.attacks.evasion import FastGradientMethod, CarliniLInfMethod, BasicIterativeMethod"
   ]
  },
  {
   "cell_type": "markdown",
   "metadata": {},
   "source": [
    "### Data preprocessing (MNIST)"
   ]
  },
  {
   "cell_type": "code",
   "execution_count": 2,
   "metadata": {},
   "outputs": [],
   "source": [
    "(x_train, y_train), (x_test, y_test) = keras.datasets.mnist.load_data()\n",
    "image_size = x_train.shape[1]\n",
    "x_train = x_train.astype('float32') / 255\n",
    "x_test = x_test.astype('float32') / 255\n",
    "x_train = np.reshape(x_train, [-1, image_size, image_size, 1])\n",
    "x_test = np.reshape(x_test, [-1, image_size, image_size, 1])"
   ]
  },
  {
   "cell_type": "markdown",
   "metadata": {},
   "source": [
    "### MNIST model loading"
   ]
  },
  {
   "cell_type": "code",
   "execution_count": 3,
   "metadata": {},
   "outputs": [],
   "source": [
    "loss_object = keras.losses.SparseCategoricalCrossentropy(from_logits=True)\n",
    "input_shape = (28, 28, 1)\n",
    "\n",
    "model = setup_mnist.mnist_model(input_shape)\n",
    "model.compile(loss=loss_object, optimizer='adam', metrics=['accuracy'])\n",
    "\n",
    "model_path = \"model/model.h5\"\n",
    "model.load_weights(model_path)"
   ]
  },
  {
   "cell_type": "markdown",
   "metadata": {},
   "source": [
    "#### Model accuracy"
   ]
  },
  {
   "cell_type": "code",
   "execution_count": 4,
   "metadata": {},
   "outputs": [
    {
     "name": "stdout",
     "output_type": "stream",
     "text": [
      "10000/10000 [==============================] - 2s 173us/step\n",
      "Accuracy on total test data: 99.43%\n"
     ]
    }
   ],
   "source": [
    "loss_test, accuracy_test = model.evaluate(x_test, y_test)\n",
    "print('Accuracy on total test data: {:4.2f}%'.format(accuracy_test * 100))"
   ]
  },
  {
   "cell_type": "code",
   "execution_count": 5,
   "metadata": {},
   "outputs": [],
   "source": [
    "x_test_atk = x_test[0:100]\n",
    "y_test_atk = y_test[0:100]"
   ]
  },
  {
   "cell_type": "markdown",
   "metadata": {},
   "source": [
    "#### Model test accuracy"
   ]
  },
  {
   "cell_type": "code",
   "execution_count": 6,
   "metadata": {},
   "outputs": [
    {
     "name": "stdout",
     "output_type": "stream",
     "text": [
      "100/100 [==============================] - 0s 249us/step\n",
      "Accuracy on test data: 99.00%\n"
     ]
    }
   ],
   "source": [
    "loss_test, accuracy_test = model.evaluate(x_test_atk, y_test_atk)\n",
    "print('Accuracy on test data: {:4.2f}%'.format(accuracy_test * 100))"
   ]
  },
  {
   "cell_type": "code",
   "execution_count": 7,
   "metadata": {},
   "outputs": [],
   "source": [
    "def plt_show(gray):\n",
    "    plt.figure()\n",
    "    plt.imshow(gray[:,:,0], cmap='gray')\n",
    "    plt.axis('off')\n",
    "    plt.show()"
   ]
  },
  {
   "cell_type": "code",
   "execution_count": 8,
   "metadata": {},
   "outputs": [
    {
     "name": "stdout",
     "output_type": "stream",
     "text": [
      "Original test image\n"
     ]
    },
    {
     "data": {
      "image/png": "[encoded data removed]",
      "text/plain": [
       "<Figure size 432x288 with 1 Axes>"
      ]
     },
     "metadata": {
      "needs_background": "light"
     },
     "output_type": "display_data"
    }
   ],
   "source": [
    "test_index = 0\n",
    "print('Original test image')\n",
    "plt_show(x_test_atk[test_index])"
   ]
  },
  {
   "cell_type": "code",
   "execution_count": 9,
   "metadata": {},
   "outputs": [],
   "source": [
    "classifier = KerasClassifier(model=model, use_logits=True, clip_values=(0, 1))"
   ]
  },
  {
   "cell_type": "markdown",
   "metadata": {},
   "source": [
    "### Attack test on FGSM"
   ]
  },
  {
   "cell_type": "code",
   "execution_count": 10,
   "metadata": {},
   "outputs": [],
   "source": [
    "attack_fgsm = FastGradientMethod(estimator=classifier, eps=0.2)\n",
    "x_test_adv_fgsm = attack_fgsm.generate(x_test_atk)"
   ]
  },
  {
   "cell_type": "code",
   "execution_count": 11,
   "metadata": {},
   "outputs": [
    {
     "name": "stdout",
     "output_type": "stream",
     "text": [
      "100/100 [==============================] - 0s 94us/step\n",
      "Accuracy on adversarial test data: 68.00%\n",
      "Average perturbation: 0.10\n"
     ]
    }
   ],
   "source": [
    "loss_test, accuracy_test = model.evaluate(x_test_adv_fgsm, y_test_atk)\n",
    "perturbation = np.mean(np.abs((x_test_adv_fgsm - x_test_atk)))\n",
    "print('Accuracy on adversarial test data: {:4.2f}%'.format(accuracy_test * 100))\n",
    "print('Average perturbation: {:4.2f}'.format(perturbation))"
   ]
  },
  {
   "cell_type": "code",
   "execution_count": 12,
   "metadata": {},
   "outputs": [
    {
     "data": {
      "image/png": "[encoded data removed]",
      "text/plain": [
       "<Figure size 432x288 with 1 Axes>"
      ]
     },
     "metadata": {
      "needs_background": "light"
     },
     "output_type": "display_data"
    }
   ],
   "source": [
    "plt_show(x_test_adv_fgsm[test_index])"
   ]
  },
  {
   "cell_type": "markdown",
   "metadata": {},
   "source": [
    "### Attack test on C&W Method"
   ]
  },
  {
   "cell_type": "code",
   "execution_count": 13,
   "metadata": {},
   "outputs": [
    {
     "name": "stderr",
     "output_type": "stream",
     "text": [
      "C&W L_inf: 100%|██████████| 1/1 [00:16<00:00, 16.60s/it]\n"
     ]
    }
   ],
   "source": [
    "attack_cw = CarliniLInfMethod(classifier=classifier, eps=0.2, max_iter=100, learning_rate=0.01)\n",
    "x_test_adv_cw = attack_cw.generate(x_test_atk)"
   ]
  },
  {
   "cell_type": "code",
   "execution_count": 14,
   "metadata": {},
   "outputs": [
    {
     "name": "stdout",
     "output_type": "stream",
     "text": [
      "100/100 [==============================] - 0s 123us/step\n",
      "Accuracy on adversarial test data: 64.00%\n",
      "Average perturbation: 0.01\n"
     ]
    }
   ],
   "source": [
    "loss_test, accuracy_test = model.evaluate(x_test_adv_cw, y_test_atk)\n",
    "perturbation = np.mean(np.abs((x_test_adv_cw - x_test_atk)))\n",
    "print('Accuracy on adversarial test data: {:4.2f}%'.format(accuracy_test * 100))\n",
    "print('Average perturbation: {:4.2f}'.format(perturbation))"
   ]
  },
  {
   "cell_type": "code",
   "execution_count": 15,
   "metadata": {},
   "outputs": [
    {
     "data": {
      "image/png": "[encoded data removed]",
      "text/plain": [
       "<Figure size 432x288 with 1 Axes>"
      ]
     },
     "metadata": {
      "needs_background": "light"
     },
     "output_type": "display_data"
    }
   ],
   "source": [
    "plt_show(x_test_adv_cw[test_index])"
   ]
  },
  {
   "cell_type": "markdown",
   "metadata": {},
   "source": [
    "### Attack test on PGD (BIM) Method"
   ]
  },
  {
   "cell_type": "code",
   "execution_count": 16,
   "metadata": {},
   "outputs": [],
   "source": [
    "attack_pgd = BasicIterativeMethod(estimator=classifier, eps=0.2, eps_step=0.05, max_iter=100)\n",
    "x_test_adv_pgd = attack_pgd.generate(x_test_atk)"
   ]
  },
  {
   "cell_type": "code",
   "execution_count": 17,
   "metadata": {},
   "outputs": [
    {
     "name": "stdout",
     "output_type": "stream",
     "text": [
      "100/100 [==============================] - 0s 114us/step\n",
      "Accuracy on adversarial test data: 1.00%\n",
      "Average perturbation: 0.10\n"
     ]
    }
   ],
   "source": [
    "loss_test, accuracy_test = model.evaluate(x_test_adv_pgd, y_test_atk)\n",
    "perturbation = np.mean(np.abs((x_test_adv_pgd - x_test_atk)))\n",
    "print('Accuracy on adversarial test data: {:4.2f}%'.format(accuracy_test * 100))\n",
    "print('Average perturbation: {:4.2f}'.format(perturbation))"
   ]
  },
  {
   "cell_type": "code",
   "execution_count": 18,
   "metadata": {},
   "outputs": [
    {
     "data": {
      "image/png": "[encoded data removed]",
      "text/plain": [
       "<Figure size 432x288 with 1 Axes>"
      ]
     },
     "metadata": {
      "needs_background": "light"
     },
     "output_type": "display_data"
    }
   ],
   "source": [
    "plt_show(x_test_adv_pgd[test_index])"
   ]
  },
  {
   "cell_type": "markdown",
   "metadata": {},
   "source": [
    "### Denoiser test (before training validation model [just adding denoiser])"
   ]
  },
  {
   "cell_type": "code",
   "execution_count": 19,
   "metadata": {},
   "outputs": [],
   "source": [
    "dae_path = 'model/DAE.h5'\n",
    "dm_gaussian_blur_path = 'model/dm_gaussian_blur.h5'\n",
    "dm_median_blur_path = 'model/dm_median_blur.h5'\n",
    "dm_dae_path = 'model/dm_dae.h5'\n",
    "\n",
    "dm_gaussian_blur = denoise_model.DM_GAUSSIAN_BLUR()\n",
    "dm_median_blur = denoise_model.DM_MEDIAN_BLUR()\n",
    "dm_nl_means = denoise_model.DM_NL_MEANS()\n",
    "dm_dae = denoise_model.DM_DAE()"
   ]
  },
  {
   "cell_type": "code",
   "execution_count": 20,
   "metadata": {},
   "outputs": [],
   "source": [
    "dm_dae.denoiser.compile(loss='mse', optimizer='adam')\n",
    "\n",
    "dm_gaussian_blur.model.compile(loss=loss_object, optimizer='adam', metrics=['accuracy'])\n",
    "dm_median_blur.model.compile(loss=loss_object, optimizer='adam', metrics=['accuracy'])\n",
    "dm_nl_means.model.compile(loss=loss_object, optimizer='adam', metrics=['accuracy'])\n",
    "dm_dae.model.compile(loss=loss_object, optimizer='adam', metrics=['accuracy'])\n",
    "\n",
    "dm_gaussian_blur.denoise_model.compile(loss=loss_object, optimizer='adam', metrics=['accuracy'])\n",
    "dm_median_blur.denoise_model.compile(loss=loss_object, optimizer='adam', metrics=['accuracy'])\n",
    "dm_nl_means.denoise_model.compile(loss=loss_object, optimizer='adam', metrics=['accuracy'])\n",
    "dm_dae.denoise_model.compile(loss=loss_object, optimizer='adam', metrics=['accuracy'])\n",
    "\n",
    "dm_dae.denoiser.load_weights(dae_path)\n",
    "\n",
    "dm_gaussian_blur.model.load_weights(model_path)\n",
    "dm_median_blur.model.load_weights(model_path)\n",
    "dm_nl_means.model.load_weights(model_path)\n",
    "dm_dae.model.load_weights(model_path)"
   ]
  },
  {
   "cell_type": "markdown",
   "metadata": {},
   "source": [
    "#### Original image accuracy"
   ]
  },
  {
   "cell_type": "code",
   "execution_count": 21,
   "metadata": {},
   "outputs": [
    {
     "name": "stdout",
     "output_type": "stream",
     "text": [
      "100/100 [==============================] - 0s 565us/step\n",
      "Accuracy [Gaussian Blur] on test data: 99.00%\n"
     ]
    }
   ],
   "source": [
    "loss_test, accuracy_test = dm_gaussian_blur.denoise_model.evaluate(x_test_atk, y_test_atk)\n",
    "print('Accuracy [Gaussian Blur] on test data: {:4.2f}%'.format(accuracy_test * 100))"
   ]
  },
  {
   "cell_type": "code",
   "execution_count": 22,
   "metadata": {},
   "outputs": [
    {
     "name": "stdout",
     "output_type": "stream",
     "text": [
      "100/100 [==============================] - 0s 890us/step\n",
      "Accuracy [Median Blur] on test data: 99.00%\n"
     ]
    }
   ],
   "source": [
    "loss_test, accuracy_test = dm_median_blur.denoise_model.evaluate(x_test_atk, y_test_atk)\n",
    "print('Accuracy [Median Blur] on test data: {:4.2f}%'.format(accuracy_test * 100))"
   ]
  },
  {
   "cell_type": "code",
   "execution_count": 23,
   "metadata": {},
   "outputs": [
    {
     "name": "stdout",
     "output_type": "stream",
     "text": [
      "100/100 [==============================] - 1s 11ms/step\n",
      "Accuracy [Non-Local Means] on test data: 99.00%\n"
     ]
    }
   ],
   "source": [
    "loss_test, accuracy_test = dm_nl_means.denoise_model.evaluate(x_test_atk, y_test_atk)\n",
    "print('Accuracy [Non-Local Means] on test data: {:4.2f}%'.format(accuracy_test * 100))"
   ]
  },
  {
   "cell_type": "code",
   "execution_count": 24,
   "metadata": {},
   "outputs": [
    {
     "name": "stdout",
     "output_type": "stream",
     "text": [
      "100/100 [==============================] - 0s 1ms/step\n",
      "Accuracy [DAE] on test data: 98.00%\n"
     ]
    }
   ],
   "source": [
    "loss_test, accuracy_test = dm_dae.denoise_model.evaluate(x_test_atk, y_test_atk)\n",
    "print('Accuracy [DAE] on test data: {:4.2f}%'.format(accuracy_test * 100))"
   ]
  },
  {
   "cell_type": "markdown",
   "metadata": {},
   "source": [
    "#### FGSM accuracy"
   ]
  },
  {
   "cell_type": "code",
   "execution_count": 25,
   "metadata": {},
   "outputs": [
    {
     "name": "stdout",
     "output_type": "stream",
     "text": [
      "100/100 [==============================] - 0s 199us/step\n",
      "Accuracy [Gaussian Blur] on test data: 83.00%\n"
     ]
    }
   ],
   "source": [
    "loss_test, accuracy_test = dm_gaussian_blur.denoise_model.evaluate(x_test_adv_fgsm, y_test_atk)\n",
    "print('Accuracy [Gaussian Blur] on test data: {:4.2f}%'.format(accuracy_test * 100))"
   ]
  },
  {
   "cell_type": "code",
   "execution_count": 26,
   "metadata": {},
   "outputs": [
    {
     "name": "stdout",
     "output_type": "stream",
     "text": [
      "100/100 [==============================] - 0s 583us/step\n",
      "Accuracy [Median Blur] on test data: 77.00%\n"
     ]
    }
   ],
   "source": [
    "loss_test, accuracy_test = dm_median_blur.denoise_model.evaluate(x_test_adv_fgsm, y_test_atk)\n",
    "print('Accuracy [Median Blur] on test data: {:4.2f}%'.format(accuracy_test * 100))"
   ]
  },
  {
   "cell_type": "code",
   "execution_count": 27,
   "metadata": {},
   "outputs": [
    {
     "name": "stdout",
     "output_type": "stream",
     "text": [
      "100/100 [==============================] - 1s 10ms/step\n",
      "Accuracy [Non-Local Means] on test data: 69.00%\n"
     ]
    }
   ],
   "source": [
    "loss_test, accuracy_test = dm_nl_means.denoise_model.evaluate(x_test_adv_fgsm, y_test_atk)\n",
    "print('Accuracy [Non-Local Means] on test data: {:4.2f}%'.format(accuracy_test * 100))"
   ]
  },
  {
   "cell_type": "code",
   "execution_count": 28,
   "metadata": {},
   "outputs": [
    {
     "name": "stdout",
     "output_type": "stream",
     "text": [
      "100/100 [==============================] - 0s 141us/step\n",
      "Accuracy [DAE] on test data: 96.00%\n"
     ]
    }
   ],
   "source": [
    "loss_test, accuracy_test = dm_dae.denoise_model.evaluate(x_test_adv_fgsm, y_test_atk)\n",
    "print('Accuracy [DAE] on test data: {:4.2f}%'.format(accuracy_test * 100))"
   ]
  },
  {
   "cell_type": "markdown",
   "metadata": {},
   "source": [
    "#### C&W accuracy"
   ]
  },
  {
   "cell_type": "code",
   "execution_count": 29,
   "metadata": {},
   "outputs": [
    {
     "name": "stdout",
     "output_type": "stream",
     "text": [
      "100/100 [==============================] - 0s 199us/step\n",
      "Accuracy [Gaussian Blur] on test data: 98.00%\n"
     ]
    }
   ],
   "source": [
    "loss_test, accuracy_test = dm_gaussian_blur.denoise_model.evaluate(x_test_adv_cw, y_test_atk)\n",
    "print('Accuracy [Gaussian Blur] on test data: {:4.2f}%'.format(accuracy_test * 100))"
   ]
  },
  {
   "cell_type": "code",
   "execution_count": 30,
   "metadata": {},
   "outputs": [
    {
     "name": "stdout",
     "output_type": "stream",
     "text": [
      "100/100 [==============================] - 0s 589us/step\n",
      "Accuracy [Median Blur] on test data: 99.00%\n"
     ]
    }
   ],
   "source": [
    "loss_test, accuracy_test = dm_median_blur.denoise_model.evaluate(x_test_adv_cw, y_test_atk)\n",
    "print('Accuracy [Median Blur] on test data: {:4.2f}%'.format(accuracy_test * 100))"
   ]
  },
  {
   "cell_type": "code",
   "execution_count": 31,
   "metadata": {},
   "outputs": [
    {
     "name": "stdout",
     "output_type": "stream",
     "text": [
      "100/100 [==============================] - 1s 9ms/step\n",
      "Accuracy [Non-Local Means] on test data: 69.00%\n"
     ]
    }
   ],
   "source": [
    "loss_test, accuracy_test = dm_nl_means.denoise_model.evaluate(x_test_adv_cw, y_test_atk)\n",
    "print('Accuracy [Non-Local Means] on test data: {:4.2f}%'.format(accuracy_test * 100))"
   ]
  },
  {
   "cell_type": "code",
   "execution_count": 32,
   "metadata": {},
   "outputs": [
    {
     "name": "stdout",
     "output_type": "stream",
     "text": [
      "100/100 [==============================] - 0s 146us/step\n",
      "Accuracy [DAE] on test data: 98.00%\n"
     ]
    }
   ],
   "source": [
    "loss_test, accuracy_test = dm_dae.denoise_model.evaluate(x_test_adv_cw, y_test_atk)\n",
    "print('Accuracy [DAE] on test data: {:4.2f}%'.format(accuracy_test * 100))"
   ]
  },
  {
   "cell_type": "markdown",
   "metadata": {},
   "source": [
    "#### PGD accuracy"
   ]
  },
  {
   "cell_type": "code",
   "execution_count": 33,
   "metadata": {},
   "outputs": [
    {
     "name": "stdout",
     "output_type": "stream",
     "text": [
      "100/100 [==============================] - 0s 204us/step\n",
      "Accuracy [Gaussian Blur] on test data: 43.00%\n"
     ]
    }
   ],
   "source": [
    "loss_test, accuracy_test = dm_gaussian_blur.denoise_model.evaluate(x_test_adv_pgd, y_test_atk)\n",
    "print('Accuracy [Gaussian Blur] on test data: {:4.2f}%'.format(accuracy_test * 100))"
   ]
  },
  {
   "cell_type": "code",
   "execution_count": 34,
   "metadata": {},
   "outputs": [
    {
     "name": "stdout",
     "output_type": "stream",
     "text": [
      "100/100 [==============================] - 0s 589us/step\n",
      "Accuracy [Median Blur] on test data: 17.00%\n"
     ]
    }
   ],
   "source": [
    "loss_test, accuracy_test = dm_median_blur.denoise_model.evaluate(x_test_adv_pgd, y_test_atk)\n",
    "print('Accuracy [Median Blur] on test data: {:4.2f}%'.format(accuracy_test * 100))"
   ]
  },
  {
   "cell_type": "code",
   "execution_count": 35,
   "metadata": {},
   "outputs": [
    {
     "name": "stdout",
     "output_type": "stream",
     "text": [
      "100/100 [==============================] - 1s 10ms/step\n",
      "Accuracy [Non-Local Means] on test data: 1.00%\n"
     ]
    }
   ],
   "source": [
    "loss_test, accuracy_test = dm_nl_means.denoise_model.evaluate(x_test_adv_pgd, y_test_atk)\n",
    "print('Accuracy [Non-Local Means] on test data: {:4.2f}%'.format(accuracy_test * 100))"
   ]
  },
  {
   "cell_type": "code",
   "execution_count": 36,
   "metadata": {},
   "outputs": [
    {
     "name": "stdout",
     "output_type": "stream",
     "text": [
      "100/100 [==============================] - 0s 152us/step\n",
      "Accuracy [DAE] on test data: 93.00%\n"
     ]
    }
   ],
   "source": [
    "loss_test, accuracy_test = dm_dae.denoise_model.evaluate(x_test_adv_pgd, y_test_atk)\n",
    "print('Accuracy [DAE] on test data: {:4.2f}%'.format(accuracy_test * 100))"
   ]
  },
  {
   "cell_type": "markdown",
   "metadata": {},
   "source": [
    "### Denoiser test after training validation model"
   ]
  },
  {
   "cell_type": "code",
   "execution_count": 37,
   "metadata": {},
   "outputs": [],
   "source": [
    "dm_gaussian_blur.denoise_model.load_weights(dm_gaussian_blur_path)\n",
    "dm_median_blur.denoise_model.load_weights(dm_median_blur_path)\n",
    "dm_dae.denoise_model.load_weights(dm_dae_path)"
   ]
  },
  {
   "cell_type": "markdown",
   "metadata": {},
   "source": [
    "#### Original image accuracy"
   ]
  },
  {
   "cell_type": "code",
   "execution_count": 38,
   "metadata": {},
   "outputs": [
    {
     "name": "stdout",
     "output_type": "stream",
     "text": [
      "100/100 [==============================] - 0s 173us/step\n",
      "Accuracy [Gaussian Blur] on test data: 100.00%\n"
     ]
    }
   ],
   "source": [
    "loss_test, accuracy_test = dm_gaussian_blur.denoise_model.evaluate(x_test_atk, y_test_atk)\n",
    "print('Accuracy [Gaussian Blur] on test data: {:4.2f}%'.format(accuracy_test * 100))"
   ]
  },
  {
   "cell_type": "code",
   "execution_count": 39,
   "metadata": {},
   "outputs": [
    {
     "name": "stdout",
     "output_type": "stream",
     "text": [
      "100/100 [==============================] - 0s 560us/step\n",
      "Accuracy [Median Blur] on test data: 100.00%\n"
     ]
    }
   ],
   "source": [
    "loss_test, accuracy_test = dm_median_blur.denoise_model.evaluate(x_test_atk, y_test_atk)\n",
    "print('Accuracy [Median Blur] on test data: {:4.2f}%'.format(accuracy_test * 100))"
   ]
  },
  {
   "cell_type": "code",
   "execution_count": 40,
   "metadata": {},
   "outputs": [
    {
     "name": "stdout",
     "output_type": "stream",
     "text": [
      "100/100 [==============================] - 0s 155us/step\n",
      "Accuracy [DAE] on test data: 98.00%\n"
     ]
    }
   ],
   "source": [
    "loss_test, accuracy_test = dm_dae.denoise_model.evaluate(x_test_atk, y_test_atk)\n",
    "print('Accuracy [DAE] on test data: {:4.2f}%'.format(accuracy_test * 100))"
   ]
  },
  {
   "cell_type": "markdown",
   "metadata": {},
   "source": [
    "#### FGSM accuracy"
   ]
  },
  {
   "cell_type": "code",
   "execution_count": 41,
   "metadata": {},
   "outputs": [
    {
     "name": "stdout",
     "output_type": "stream",
     "text": [
      "100/100 [==============================] - 0s 215us/step\n",
      "Accuracy [Gaussian Blur] on test data: 91.00%\n"
     ]
    }
   ],
   "source": [
    "loss_test, accuracy_test = dm_gaussian_blur.denoise_model.evaluate(x_test_adv_fgsm, y_test_atk)\n",
    "print('Accuracy [Gaussian Blur] on test data: {:4.2f}%'.format(accuracy_test * 100))"
   ]
  },
  {
   "cell_type": "code",
   "execution_count": 42,
   "metadata": {},
   "outputs": [
    {
     "name": "stdout",
     "output_type": "stream",
     "text": [
      "100/100 [==============================] - 0s 537us/step\n",
      "Accuracy [Median Blur] on test data: 80.00%\n"
     ]
    }
   ],
   "source": [
    "loss_test, accuracy_test = dm_median_blur.denoise_model.evaluate(x_test_adv_fgsm, y_test_atk)\n",
    "print('Accuracy [Median Blur] on test data: {:4.2f}%'.format(accuracy_test * 100))"
   ]
  },
  {
   "cell_type": "code",
   "execution_count": 43,
   "metadata": {},
   "outputs": [
    {
     "name": "stdout",
     "output_type": "stream",
     "text": [
      "100/100 [==============================] - 0s 172us/step\n",
      "Accuracy [DAE] on test data: 95.00%\n"
     ]
    }
   ],
   "source": [
    "loss_test, accuracy_test = dm_dae.denoise_model.evaluate(x_test_adv_fgsm, y_test_atk)\n",
    "print('Accuracy [DAE] on test data: {:4.2f}%'.format(accuracy_test * 100))"
   ]
  },
  {
   "cell_type": "markdown",
   "metadata": {},
   "source": [
    "#### C&W accuracy"
   ]
  },
  {
   "cell_type": "code",
   "execution_count": 44,
   "metadata": {},
   "outputs": [
    {
     "name": "stdout",
     "output_type": "stream",
     "text": [
      "100/100 [==============================] - 0s 230us/step\n",
      "Accuracy [Gaussian Blur] on test data: 100.00%\n"
     ]
    }
   ],
   "source": [
    "loss_test, accuracy_test = dm_gaussian_blur.denoise_model.evaluate(x_test_adv_cw, y_test_atk)\n",
    "print('Accuracy [Gaussian Blur] on test data: {:4.2f}%'.format(accuracy_test * 100))"
   ]
  },
  {
   "cell_type": "code",
   "execution_count": 45,
   "metadata": {},
   "outputs": [
    {
     "name": "stdout",
     "output_type": "stream",
     "text": [
      "100/100 [==============================] - 0s 650us/step\n",
      "Accuracy [Median Blur] on test data: 100.00%\n"
     ]
    }
   ],
   "source": [
    "loss_test, accuracy_test = dm_median_blur.denoise_model.evaluate(x_test_adv_cw, y_test_atk)\n",
    "print('Accuracy [Median Blur] on test data: {:4.2f}%'.format(accuracy_test * 100))"
   ]
  },
  {
   "cell_type": "code",
   "execution_count": 46,
   "metadata": {},
   "outputs": [
    {
     "name": "stdout",
     "output_type": "stream",
     "text": [
      "100/100 [==============================] - 0s 182us/step\n",
      "Accuracy [DAE] on test data: 97.00%\n"
     ]
    }
   ],
   "source": [
    "loss_test, accuracy_test = dm_dae.denoise_model.evaluate(x_test_adv_cw, y_test_atk)\n",
    "print('Accuracy [DAE] on test data: {:4.2f}%'.format(accuracy_test * 100))"
   ]
  },
  {
   "cell_type": "markdown",
   "metadata": {},
   "source": [
    "#### PGD accuracy"
   ]
  },
  {
   "cell_type": "code",
   "execution_count": 47,
   "metadata": {},
   "outputs": [
    {
     "name": "stdout",
     "output_type": "stream",
     "text": [
      "100/100 [==============================] - 0s 226us/step\n",
      "Accuracy [Gaussian Blur] on test data: 49.00%\n"
     ]
    }
   ],
   "source": [
    "loss_test, accuracy_test = dm_gaussian_blur.denoise_model.evaluate(x_test_adv_pgd, y_test_atk)\n",
    "print('Accuracy [Gaussian Blur] on test data: {:4.2f}%'.format(accuracy_test * 100))"
   ]
  },
  {
   "cell_type": "code",
   "execution_count": 48,
   "metadata": {},
   "outputs": [
    {
     "name": "stdout",
     "output_type": "stream",
     "text": [
      "100/100 [==============================] - 0s 599us/step\n",
      "Accuracy [Median Blur] on test data: 21.00%\n"
     ]
    }
   ],
   "source": [
    "loss_test, accuracy_test = dm_median_blur.denoise_model.evaluate(x_test_adv_pgd, y_test_atk)\n",
    "print('Accuracy [Median Blur] on test data: {:4.2f}%'.format(accuracy_test * 100))"
   ]
  },
  {
   "cell_type": "code",
   "execution_count": 49,
   "metadata": {},
   "outputs": [
    {
     "name": "stdout",
     "output_type": "stream",
     "text": [
      "100/100 [==============================] - 0s 178us/step\n",
      "Accuracy [DAE] on test data: 93.00%\n"
     ]
    }
   ],
   "source": [
    "loss_test, accuracy_test = dm_dae.denoise_model.evaluate(x_test_adv_pgd, y_test_atk)\n",
    "print('Accuracy [DAE] on test data: {:4.2f}%'.format(accuracy_test * 100))"
   ]
  },
  {
   "cell_type": "markdown",
   "metadata": {},
   "source": [
    "### Denoiser test"
   ]
  },
  {
   "cell_type": "markdown",
   "metadata": {},
   "source": [
    "#### FGSM"
   ]
  },
  {
   "cell_type": "code",
   "execution_count": 50,
   "metadata": {},
   "outputs": [],
   "source": [
    "gaussian_blur_fgsm = dm_gaussian_blur.denoiser.predict(x_test_adv_fgsm)\n",
    "median_blur_fgsm = dm_median_blur.denoiser.predict(x_test_adv_fgsm)\n",
    "nl_means_fgsm = dm_nl_means.denoiser.predict(x_test_adv_fgsm)\n",
    "dae_fgsm = dm_dae.denoiser.predict(x_test_adv_fgsm)"
   ]
  },
  {
   "cell_type": "code",
   "execution_count": 51,
   "metadata": {},
   "outputs": [
    {
     "data": {
      "image/png": "[encoded data removed]",
      "text/plain": [
       "<Figure size 432x288 with 1 Axes>"
      ]
     },
     "metadata": {
      "needs_background": "light"
     },
     "output_type": "display_data"
    }
   ],
   "source": [
    "plt_show(gaussian_blur_fgsm[test_index])"
   ]
  },
  {
   "cell_type": "code",
   "execution_count": 52,
   "metadata": {},
   "outputs": [
    {
     "data": {
      "image/png": "[encoded data removed]",
      "text/plain": [
       "<Figure size 432x288 with 1 Axes>"
      ]
     },
     "metadata": {
      "needs_background": "light"
     },
     "output_type": "display_data"
    }
   ],
   "source": [
    "plt_show(median_blur_fgsm[test_index])"
   ]
  },
  {
   "cell_type": "code",
   "execution_count": 53,
   "metadata": {},
   "outputs": [
    {
     "data": {
      "image/png": "[encoded data removed]",
      "text/plain": [
       "<Figure size 432x288 with 1 Axes>"
      ]
     },
     "metadata": {
      "needs_background": "light"
     },
     "output_type": "display_data"
    }
   ],
   "source": [
    "plt_show(nl_means_fgsm[test_index])"
   ]
  },
  {
   "cell_type": "code",
   "execution_count": 54,
   "metadata": {},
   "outputs": [
    {
     "data": {
      "image/png": "[encoded data removed]",
      "text/plain": [
       "<Figure size 432x288 with 1 Axes>"
      ]
     },
     "metadata": {
      "needs_background": "light"
     },
     "output_type": "display_data"
    }
   ],
   "source": [
    "plt_show(dae_fgsm[test_index])"
   ]
  },
  {
   "cell_type": "markdown",
   "metadata": {},
   "source": [
    "#### C&W"
   ]
  },
  {
   "cell_type": "code",
   "execution_count": 55,
   "metadata": {},
   "outputs": [],
   "source": [
    "gaussian_blur_cw = dm_gaussian_blur.denoiser.predict(x_test_adv_cw)\n",
    "median_blur_cw = dm_median_blur.denoiser.predict(x_test_adv_cw)\n",
    "nl_means_cw = dm_nl_means.denoiser.predict(x_test_adv_cw)\n",
    "dae_cw = dm_dae.denoiser.predict(x_test_adv_cw)"
   ]
  },
  {
   "cell_type": "code",
   "execution_count": 56,
   "metadata": {},
   "outputs": [
    {
     "data": {
      "image/png": "[encoded data removed]",
      "text/plain": [
       "<Figure size 432x288 with 1 Axes>"
      ]
     },
     "metadata": {
      "needs_background": "light"
     },
     "output_type": "display_data"
    }
   ],
   "source": [
    "plt_show(gaussian_blur_cw[test_index])"
   ]
  },
  {
   "cell_type": "code",
   "execution_count": 57,
   "metadata": {},
   "outputs": [
    {
     "data": {
      "image/png": "[encoded data removed]",
      "text/plain": [
       "<Figure size 432x288 with 1 Axes>"
      ]
     },
     "metadata": {
      "needs_background": "light"
     },
     "output_type": "display_data"
    }
   ],
   "source": [
    "plt_show(median_blur_cw[test_index])"
   ]
  },
  {
   "cell_type": "code",
   "execution_count": 58,
   "metadata": {},
   "outputs": [
    {
     "data": {
      "image/png": "[encoded data removed]",
      "text/plain": [
       "<Figure size 432x288 with 1 Axes>"
      ]
     },
     "metadata": {
      "needs_background": "light"
     },
     "output_type": "display_data"
    }
   ],
   "source": [
    "plt_show(nl_means_cw[test_index])"
   ]
  },
  {
   "cell_type": "code",
   "execution_count": 59,
   "metadata": {},
   "outputs": [
    {
     "data": {
      "image/png": "[encoded data removed]",
      "text/plain": [
       "<Figure size 432x288 with 1 Axes>"
      ]
     },
     "metadata": {
      "needs_background": "light"
     },
     "output_type": "display_data"
    }
   ],
   "source": [
    "plt_show(dae_cw[test_index])"
   ]
  },
  {
   "cell_type": "markdown",
   "metadata": {},
   "source": [
    "#### PGD"
   ]
  },
  {
   "cell_type": "code",
   "execution_count": 60,
   "metadata": {},
   "outputs": [],
   "source": [
    "gaussian_blur_pgd = dm_gaussian_blur.denoiser.predict(x_test_adv_pgd)\n",
    "median_blur_pgd = dm_median_blur.denoiser.predict(x_test_adv_pgd)\n",
    "nl_means_pgd = dm_nl_means.denoiser.predict(x_test_adv_pgd)\n",
    "dae_pgd = dm_dae.denoiser.predict(x_test_adv_pgd)"
   ]
  },
  {
   "cell_type": "code",
   "execution_count": 61,
   "metadata": {},
   "outputs": [
    {
     "data": {
      "image/png": "[encoded data removed]",
      "text/plain": [
       "<Figure size 432x288 with 1 Axes>"
      ]
     },
     "metadata": {
      "needs_background": "light"
     },
     "output_type": "display_data"
    }
   ],
   "source": [
    "plt_show(gaussian_blur_pgd[test_index])"
   ]
  },
  {
   "cell_type": "code",
   "execution_count": 62,
   "metadata": {},
   "outputs": [
    {
     "data": {
      "image/png": "[encoded data removed]",
      "text/plain": [
       "<Figure size 432x288 with 1 Axes>"
      ]
     },
     "metadata": {
      "needs_background": "light"
     },
     "output_type": "display_data"
    }
   ],
   "source": [
    "plt_show(median_blur_pgd[test_index])"
   ]
  },
  {
   "cell_type": "code",
   "execution_count": 63,
   "metadata": {},
   "outputs": [
    {
     "data": {
      "image/png": "[encoded data removed]",
      "text/plain": [
       "<Figure size 432x288 with 1 Axes>"
      ]
     },
     "metadata": {
      "needs_background": "light"
     },
     "output_type": "display_data"
    }
   ],
   "source": [
    "plt_show(nl_means_pgd[test_index])"
   ]
  },
  {
   "cell_type": "code",
   "execution_count": 64,
   "metadata": {},
   "outputs": [
    {
     "data": {
      "image/png": "[encoded data removed]",
      "text/plain": [
       "<Figure size 432x288 with 1 Axes>"
      ]
     },
     "metadata": {
      "needs_background": "light"
     },
     "output_type": "display_data"
    }
   ],
   "source": [
    "plt_show(dae_pgd[test_index])"
   ]
  }
 ],
 "metadata": {
  "kernelspec": {
   "display_name": "Python 3",
   "language": "python",
   "name": "python3"
  },
  "language_info": {
   "codemirror_mode": {
    "name": "ipython",
    "version": 3
   },
   "file_extension": ".py",
   "mimetype": "text/x-python",
   "name": "python",
   "nbconvert_exporter": "python",
   "pygments_lexer": "ipython3",
   "version": "3.6.9"
  }
 },
 "nbformat": 4,
 "nbformat_minor": 4
}
